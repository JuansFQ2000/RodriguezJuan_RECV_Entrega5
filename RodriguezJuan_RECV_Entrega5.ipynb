{
  "nbformat": 4,
  "nbformat_minor": 0,
  "metadata": {
    "colab": {
      "name": "RodriguezJuan_RECV_Entrega5.ipynb",
      "provenance": []
    },
    "kernelspec": {
      "name": "python3",
      "display_name": "Python 3"
    },
    "language_info": {
      "name": "python"
    }
  },
  "cells": [
    {
      "cell_type": "code",
      "metadata": {
        "id": "1WepoNebkYLd"
      },
      "source": [
        "#-- Descomprimimos el dataset\n",
        "# !rm -r mnist\n",
        "# !unzip mnist.zip"
      ],
      "execution_count": 93,
      "outputs": []
    },
    {
      "cell_type": "markdown",
      "metadata": {
        "id": "WQisCwRJeZtu"
      },
      "source": [
        "# **PUNTO 1. **"
      ]
    },
    {
      "cell_type": "markdown",
      "metadata": {
        "id": "x8KMzLj7ef0p"
      },
      "source": [
        "Obtenga las curvas de los score loss, f1_score y accuracy para los sets de entrenamiento y validación usando diferentes tamaños del set de entrenamiento (10%, 20%, 50%, 80% y 100%) cuando el conjunto de validación es completo [30pts]. i) Indique cuál es la importancia del tamaño del conjunto de entrenamiento ii) Compare las curvas de entrenamiento y validación usando los 3 scores y iii) haga un breve análisis de los resultado obtenidos [15pts]."
      ]
    },
    {
      "cell_type": "markdown",
      "metadata": {
        "id": "pthToyXpKmTk"
      },
      "source": [
        "# CASO BASE: 100% DE LOS DATOS"
      ]
    },
    {
      "cell_type": "code",
      "metadata": {
        "id": "QUacm5IKGhAo"
      },
      "source": [
        "import numpy as np\n",
        "import matplotlib.pyplot as plt\n",
        "import pandas as pd"
      ],
      "execution_count": 1,
      "outputs": []
    },
    {
      "cell_type": "code",
      "metadata": {
        "colab": {
          "base_uri": "https://localhost:8080/",
          "height": 35
        },
        "id": "qFlv23gBGar_",
        "outputId": "a13dc7a2-a115-4e87-d42f-0fd05c9b5b3a"
      },
      "source": [
        "from glob import glob\n",
        "\n",
        "train_files = glob('./mnist/train/*/*.png')\n",
        "valid_files = glob('./mnist/valid/*/*.png')\n",
        "test_files = glob('./mnist/test/*/*.png')\n",
        "\n",
        "train_files[0]"
      ],
      "execution_count": 2,
      "outputs": [
        {
          "output_type": "execute_result",
          "data": {
            "application/vnd.google.colaboratory.intrinsic+json": {
              "type": "string"
            },
            "text/plain": [
              "'./mnist/train/0/3565.png'"
            ]
          },
          "metadata": {},
          "execution_count": 2
        }
      ]
    },
    {
      "cell_type": "code",
      "metadata": {
        "colab": {
          "base_uri": "https://localhost:8080/"
        },
        "id": "JpazC337Gc_G",
        "outputId": "b81b5882-a13b-4d21-a7d3-5f13b91f1bd0"
      },
      "source": [
        "np.random.shuffle(train_files)\n",
        "np.random.shuffle(valid_files)\n",
        "np.random.shuffle(test_files)\n",
        "\n",
        "len(train_files), len(valid_files), len(test_files)"
      ],
      "execution_count": 3,
      "outputs": [
        {
          "output_type": "execute_result",
          "data": {
            "text/plain": [
              "(6000, 2000, 992)"
            ]
          },
          "metadata": {},
          "execution_count": 3
        }
      ]
    },
    {
      "cell_type": "code",
      "metadata": {
        "id": "_p0Q8vH_GkRk"
      },
      "source": [
        "#--- Cargamos los datos de entrenamiento en listas\n",
        "from PIL import Image\n",
        "\n",
        "N_train = len(train_files)\n",
        "X_train = []\n",
        "Y_train = []\n",
        "\n",
        "for i, train_file in enumerate(train_files):\n",
        "  Y_train.append( int(train_file.split('/')[3]) )\n",
        "  X_train.append(np.array(Image.open(train_file)))"
      ],
      "execution_count": 4,
      "outputs": []
    },
    {
      "cell_type": "code",
      "metadata": {
        "id": "fBwkqfUWJucN"
      },
      "source": [
        "#--- Cargamos los datos de validación en listas\n",
        "N_valid = len(valid_files)\n",
        "X_valid = []\n",
        "Y_valid = []\n",
        "\n",
        "for i, valid_file in enumerate(valid_files):\n",
        "  Y_valid.append( int(valid_file.split('/')[3]) )\n",
        "  X_valid.append( np.array(Image.open(valid_file)) )"
      ],
      "execution_count": 5,
      "outputs": []
    },
    {
      "cell_type": "code",
      "metadata": {
        "id": "67mLyGODJwXX"
      },
      "source": [
        "#--- Cargamos los datos de testeo en listas\n",
        "N_test = len(test_files)\n",
        "X_test = []\n",
        "Y_test = []\n",
        "\n",
        "for i, test_file in enumerate(test_files):\n",
        "  Y_test.append( int(test_file.split('/')[3]) )\n",
        "  X_test.append( np.array(Image.open(test_file)) )"
      ],
      "execution_count": 6,
      "outputs": []
    },
    {
      "cell_type": "code",
      "metadata": {
        "colab": {
          "base_uri": "https://localhost:8080/"
        },
        "id": "ebvxkTs_JyHA",
        "outputId": "c2d9d3f0-748c-4994-e45c-744bf1964bcf"
      },
      "source": [
        "#--- Visualizamos el tamaño de cada subset\n",
        "len(X_train), len(X_valid), len(X_test)"
      ],
      "execution_count": 7,
      "outputs": [
        {
          "output_type": "execute_result",
          "data": {
            "text/plain": [
              "(6000, 2000, 992)"
            ]
          },
          "metadata": {},
          "execution_count": 7
        }
      ]
    },
    {
      "cell_type": "code",
      "metadata": {
        "colab": {
          "base_uri": "https://localhost:8080/",
          "height": 350
        },
        "id": "riBpyGfcJzhw",
        "outputId": "28eb58b3-4fa7-4032-e5d5-9b5e3bac354e"
      },
      "source": [
        "#--- Visualizamos la distribución de clases en cada subset\n",
        "from PIL import Image\n",
        "import matplotlib.pyplot as plt\n",
        "\n",
        "fig = plt.figure(figsize=(15,5))\n",
        "plt.subplot(1,3,1)\n",
        "plt.hist(np.sort(Y_train))\n",
        "plt.xlabel('class')\n",
        "plt.ylabel('counts')\n",
        "plt.title('Train set')\n",
        "\n",
        "plt.subplot(1,3,2)\n",
        "plt.hist(np.sort(Y_valid))\n",
        "plt.xlabel('class')\n",
        "plt.ylabel('counts')\n",
        "plt.title('Valid set')\n",
        "\n",
        "plt.subplot(1,3,3)\n",
        "plt.hist(np.sort(Y_test))\n",
        "plt.xlabel('class')\n",
        "plt.ylabel('counts')\n",
        "plt.title('Test set')\n",
        "\n",
        "plt.show()"
      ],
      "execution_count": 8,
      "outputs": [
        {
          "output_type": "display_data",
          "data": {
            "image/png": "[encoded data removed]",
            "text/plain": [
              "<Figure size 1080x360 with 3 Axes>"
            ]
          },
          "metadata": {
            "needs_background": "light"
          }
        }
      ]
    },
    {
      "cell_type": "code",
      "metadata": {
        "colab": {
          "base_uri": "https://localhost:8080/",
          "height": 482
        },
        "id": "j0lV7FdpJ28l",
        "outputId": "7aa6c6b6-3e9d-4b61-da13-588615ef6410"
      },
      "source": [
        "#-- Visualizamos los datos\n",
        "fig = plt.figure(figsize=(8,8))\n",
        "for i in range(4):\n",
        "  plt.subplot(2,2,i+1)\n",
        "  plt.imshow(X_test[i*15])\n",
        "  plt.title(Y_test[i*15])\n",
        "  plt.axis(False)\n",
        "plt.show()"
      ],
      "execution_count": 9,
      "outputs": [
        {
          "output_type": "display_data",
          "data": {
            "image/png": "[encoded data removed]",
            "text/plain": [
              "<Figure size 576x576 with 4 Axes>"
            ]
          },
          "metadata": {
            "needs_background": "light"
          }
        }
      ]
    },
    {
      "cell_type": "code",
      "metadata": {
        "colab": {
          "base_uri": "https://localhost:8080/"
        },
        "id": "KGVF9BnYJ5ni",
        "outputId": "57eadd2e-41e4-46b3-c9a2-be6b1b534ad1"
      },
      "source": [
        "#--- Convertimos las listas de datos a tensores de torch\n",
        "import torch\n",
        "from torch.autograd import Variable\n",
        "\n",
        "X_train = Variable(torch.from_numpy(np.array(X_train))).float()\n",
        "Y_train = Variable(torch.from_numpy(np.array(Y_train))).long()\n",
        "\n",
        "X_valid = Variable(torch.from_numpy(np.array(X_valid))).float()\n",
        "Y_valid = Variable(torch.from_numpy(np.array(Y_valid))).long()\n",
        "\n",
        "X_test = Variable(torch.from_numpy(np.array(X_test))).float()\n",
        "Y_test = Variable(torch.from_numpy(np.array(Y_test))).long()\n",
        "\n",
        "X_train.data.size()"
      ],
      "execution_count": 10,
      "outputs": [
        {
          "output_type": "execute_result",
          "data": {
            "text/plain": [
              "torch.Size([6000, 28, 28])"
            ]
          },
          "metadata": {},
          "execution_count": 10
        }
      ]
    },
    {
      "cell_type": "code",
      "metadata": {
        "id": "PuUwoMHcJ76j"
      },
      "source": [
        "#--- Definimos una ANN con dos capas ocultas lineales de 100 neuronas\n",
        "\n",
        "input_dim = 28*28\n",
        "out_dim = 10\n",
        "hidden = 50\n",
        "\n",
        "model = torch.nn.Sequential(\n",
        "  torch.nn.Linear(input_dim, hidden),\n",
        "  torch.nn.ReLU(),  \n",
        "  torch.nn.Linear(hidden, hidden),\n",
        "  torch.nn.ReLU(),       \n",
        "  torch.nn.Linear(hidden, out_dim)\n",
        ")\n",
        "\n",
        "optimizer = torch.optim.Adam(model.parameters())\n",
        "criterion = torch.nn.CrossEntropyLoss()"
      ],
      "execution_count": 11,
      "outputs": []
    },
    {
      "cell_type": "code",
      "metadata": {
        "colab": {
          "base_uri": "https://localhost:8080/"
        },
        "id": "r4Rbs-95J9ns",
        "outputId": "4cefa574-72c1-43f8-f86d-36cd4d928eec"
      },
      "source": [
        "from sklearn.metrics import f1_score # Nueva métrica (La revisaremos la próóxima sesión)\n",
        "\n",
        "#-- Número de épocas\n",
        "n_epoch = 100\n",
        "\n",
        "#-- Listas de evaluación entrenamiento\n",
        "loss_train = []\n",
        "f1_train = []\n",
        "acc_train = []\n",
        "\n",
        "#-- Listas de evaluación validación\n",
        "loss_valid = []\n",
        "f1_valid = []\n",
        "acc_valid = []\n",
        "\n",
        "#-- Entrenamineto de la ANN\n",
        "for epoch in range(n_epoch):\n",
        "  model.train()\n",
        "  \n",
        "  Xtr = X_train.view(X_train.size(0), -1)\n",
        "  Y_pred = model(Xtr)\n",
        "\n",
        "  loss = criterion(Y_pred,Y_train)\n",
        "  loss_train.append(loss.item())\n",
        "\n",
        "  Y_pred = torch.argmax(Y_pred, 1)\n",
        "  f1_train.append( f1_score(Y_train,Y_pred, average='macro') )\n",
        "  \n",
        "  acc = sum(Y_train == Y_pred)/len(Y_pred)\n",
        "  acc_train.append(acc)\n",
        "\n",
        "  optimizer.zero_grad()\n",
        "  loss.backward()\n",
        "  optimizer.step()\n",
        "\n",
        "  print( 'Epoch [{}/{}], loss: {}. f1:{} acc: {} '.format(epoch+1,n_epoch,loss_train[-1], f1_train[-1], acc_train[-1]) )\n",
        "\n",
        "  model.eval()\n",
        "  Xvl = X_valid.view(X_valid.size(0), -1)\n",
        "  Y_pred = model(Xvl)  \n",
        "  loss = criterion(Y_pred,Y_valid)\n",
        "  loss_valid.append(loss.item())\n",
        "\n",
        "  Y_pred = torch.argmax(Y_pred, 1)\n",
        "  f1_valid.append( f1_score(Y_valid, Y_pred, average='macro') )\n",
        "\n",
        "  acc = sum(Y_valid == Y_pred)/len(Y_pred)\n",
        "  acc_valid.append(acc)\n"
      ],
      "execution_count": 12,
      "outputs": [
        {
          "output_type": "stream",
          "text": [
            "Epoch [1/100], loss: 11.168167114257812. f1:0.07519009891228408 acc: 0.11233333498239517 \n",
            "Epoch [2/100], loss: 7.040389537811279. f1:0.1082564040802562 acc: 0.13766667246818542 \n",
            "Epoch [3/100], loss: 5.1656951904296875. f1:0.1776426762088655 acc: 0.20483332872390747 \n",
            "Epoch [4/100], loss: 4.068375110626221. f1:0.2433898461699915 acc: 0.2783333361148834 \n",
            "Epoch [5/100], loss: 3.1598050594329834. f1:0.32448392754606714 acc: 0.3641666769981384 \n",
            "Epoch [6/100], loss: 2.651906967163086. f1:0.3819779982670648 acc: 0.42899999022483826 \n",
            "Epoch [7/100], loss: 2.338852882385254. f1:0.41694837472743806 acc: 0.47066667675971985 \n",
            "Epoch [8/100], loss: 2.072265863418579. f1:0.4444712788117714 acc: 0.5011666417121887 \n",
            "Epoch [9/100], loss: 1.865830898284912. f1:0.46699650769403644 acc: 0.5213333368301392 \n",
            "Epoch [10/100], loss: 1.7037888765335083. f1:0.49256736895201686 acc: 0.5388333201408386 \n",
            "Epoch [11/100], loss: 1.5332379341125488. f1:0.5377247014403217 acc: 0.5705000162124634 \n",
            "Epoch [12/100], loss: 1.3651598691940308. f1:0.5834143684633484 acc: 0.6068333387374878 \n",
            "Epoch [13/100], loss: 1.2242571115493774. f1:0.6191997615082897 acc: 0.6381666660308838 \n",
            "Epoch [14/100], loss: 1.117073655128479. f1:0.6485544952408893 acc: 0.6631666421890259 \n",
            "Epoch [15/100], loss: 1.0328445434570312. f1:0.6724542356897643 acc: 0.6830000281333923 \n",
            "Epoch [16/100], loss: 0.9643657207489014. f1:0.6908786418439901 acc: 0.6978333592414856 \n",
            "Epoch [17/100], loss: 0.9100497961044312. f1:0.70883201829696 acc: 0.7124999761581421 \n",
            "Epoch [18/100], loss: 0.866696834564209. f1:0.7211051638136695 acc: 0.7236666679382324 \n",
            "Epoch [19/100], loss: 0.8302642703056335. f1:0.7308182246132138 acc: 0.7331666946411133 \n",
            "Epoch [20/100], loss: 0.7961670756340027. f1:0.7456556130970976 acc: 0.7471666932106018 \n",
            "Epoch [21/100], loss: 0.759285569190979. f1:0.7610249494067414 acc: 0.7616666555404663 \n",
            "Epoch [22/100], loss: 0.7180836796760559. f1:0.7747501502173051 acc: 0.7746666669845581 \n",
            "Epoch [23/100], loss: 0.6770785450935364. f1:0.790106052907422 acc: 0.7898333072662354 \n",
            "Epoch [24/100], loss: 0.6402918100357056. f1:0.8059771069520358 acc: 0.8058333396911621 \n",
            "Epoch [25/100], loss: 0.6092204451560974. f1:0.8159879094697764 acc: 0.815666675567627 \n",
            "Epoch [26/100], loss: 0.58415287733078. f1:0.8245732820705026 acc: 0.8243333101272583 \n",
            "Epoch [27/100], loss: 0.5631176233291626. f1:0.8310877699916499 acc: 0.8309999704360962 \n",
            "Epoch [28/100], loss: 0.5442107319831848. f1:0.8362236105523259 acc: 0.8363333344459534 \n",
            "Epoch [29/100], loss: 0.5263112187385559. f1:0.8416312357913707 acc: 0.8420000076293945 \n",
            "Epoch [30/100], loss: 0.5088565945625305. f1:0.8479877441115053 acc: 0.8485000133514404 \n",
            "Epoch [31/100], loss: 0.4917127192020416. f1:0.8516094384914246 acc: 0.8521666526794434 \n",
            "Epoch [32/100], loss: 0.4745696187019348. f1:0.8565478683246827 acc: 0.8569999933242798 \n",
            "Epoch [33/100], loss: 0.45792117714881897. f1:0.8616491448199625 acc: 0.8619999885559082 \n",
            "Epoch [34/100], loss: 0.44181376695632935. f1:0.8663159801940049 acc: 0.8665000200271606 \n",
            "Epoch [35/100], loss: 0.4262579083442688. f1:0.8735881601003204 acc: 0.8736666440963745 \n",
            "Epoch [36/100], loss: 0.41143345832824707. f1:0.8777051556822458 acc: 0.8776666522026062 \n",
            "Epoch [37/100], loss: 0.3977506458759308. f1:0.8821101736887522 acc: 0.8820000290870667 \n",
            "Epoch [38/100], loss: 0.3852909803390503. f1:0.8851002083751425 acc: 0.8849999904632568 \n",
            "Epoch [39/100], loss: 0.37365275621414185. f1:0.8894140187821197 acc: 0.8893333077430725 \n",
            "Epoch [40/100], loss: 0.3626635670661926. f1:0.8927379513807514 acc: 0.8926666378974915 \n",
            "Epoch [41/100], loss: 0.3521629571914673. f1:0.8958695152832046 acc: 0.8958333134651184 \n",
            "Epoch [42/100], loss: 0.34195423126220703. f1:0.8977922384614236 acc: 0.8978333473205566 \n",
            "Epoch [43/100], loss: 0.3319357633590698. f1:0.9000878783464785 acc: 0.9001666903495789 \n",
            "Epoch [44/100], loss: 0.3221537470817566. f1:0.9034183359782866 acc: 0.9035000205039978 \n",
            "Epoch [45/100], loss: 0.3129808306694031. f1:0.9062579246828198 acc: 0.906333327293396 \n",
            "Epoch [46/100], loss: 0.3044889271259308. f1:0.9079446563377548 acc: 0.9079999923706055 \n",
            "Epoch [47/100], loss: 0.2965451180934906. f1:0.909837693413386 acc: 0.9098333120346069 \n",
            "Epoch [48/100], loss: 0.28887006640434265. f1:0.9139668681441752 acc: 0.9139999747276306 \n",
            "Epoch [49/100], loss: 0.2814248204231262. f1:0.9157966750137095 acc: 0.9158333539962769 \n",
            "Epoch [50/100], loss: 0.2742471694946289. f1:0.9187923831215425 acc: 0.918833315372467 \n",
            "Epoch [51/100], loss: 0.2673230469226837. f1:0.9211254446143908 acc: 0.9211666584014893 \n",
            "Epoch [52/100], loss: 0.2606961131095886. f1:0.923433444805195 acc: 0.9235000014305115 \n",
            "Epoch [53/100], loss: 0.2544122636318207. f1:0.924582768098445 acc: 0.9246666431427002 \n",
            "Epoch [54/100], loss: 0.24845679104328156. f1:0.9262461983142745 acc: 0.9263333082199097 \n",
            "Epoch [55/100], loss: 0.24270139634609222. f1:0.9275948969886139 acc: 0.9276666641235352 \n",
            "Epoch [56/100], loss: 0.23704048991203308. f1:0.9294381210454915 acc: 0.9294999837875366 \n",
            "Epoch [57/100], loss: 0.23142987489700317. f1:0.930793188362091 acc: 0.9308333396911621 \n",
            "Epoch [58/100], loss: 0.22610585391521454. f1:0.9326425234312895 acc: 0.9326666593551636 \n",
            "Epoch [59/100], loss: 0.22109869122505188. f1:0.932964018509433 acc: 0.9330000281333923 \n",
            "Epoch [60/100], loss: 0.21631532907485962. f1:0.934299897424182 acc: 0.934333324432373 \n",
            "Epoch [61/100], loss: 0.2116139531135559. f1:0.9356333451110496 acc: 0.9356666803359985 \n",
            "Epoch [62/100], loss: 0.20696891844272614. f1:0.9373128051439916 acc: 0.937333345413208 \n",
            "Epoch [63/100], loss: 0.20244581997394562. f1:0.9388291766625972 acc: 0.9388333559036255 \n",
            "Epoch [64/100], loss: 0.1980763077735901. f1:0.940512555982291 acc: 0.940500020980835 \n",
            "Epoch [65/100], loss: 0.19384269416332245. f1:0.9403521962686021 acc: 0.9403333067893982 \n",
            "Epoch [66/100], loss: 0.18973274528980255. f1:0.9413548398570821 acc: 0.9413333535194397 \n",
            "Epoch [67/100], loss: 0.18576760590076447. f1:0.9425382059786209 acc: 0.9424999952316284 \n",
            "Epoch [68/100], loss: 0.18191975355148315. f1:0.9447087535414243 acc: 0.9446666836738586 \n",
            "Epoch [69/100], loss: 0.178158238530159. f1:0.9463690271751863 acc: 0.9463333487510681 \n",
            "Epoch [70/100], loss: 0.17447298765182495. f1:0.9473589277940058 acc: 0.9473333358764648 \n",
            "Epoch [71/100], loss: 0.1708632856607437. f1:0.9481895010645323 acc: 0.9481666684150696 \n",
            "Epoch [72/100], loss: 0.16738125681877136. f1:0.9496959854897495 acc: 0.9496666789054871 \n",
            "Epoch [73/100], loss: 0.16401150822639465. f1:0.9512000005070094 acc: 0.9511666893959045 \n",
            "Epoch [74/100], loss: 0.16073134541511536. f1:0.95187201074976 acc: 0.9518333077430725 \n",
            "Epoch [75/100], loss: 0.1575571447610855. f1:0.9530359660252559 acc: 0.953000009059906 \n",
            "Epoch [76/100], loss: 0.15446893870830536. f1:0.9542009773334765 acc: 0.9541666507720947 \n",
            "Epoch [77/100], loss: 0.15146800875663757. f1:0.9548631006614638 acc: 0.9548333287239075 \n",
            "Epoch [78/100], loss: 0.14854884147644043. f1:0.9568548772336202 acc: 0.9568333625793457 \n",
            "Epoch [79/100], loss: 0.1456785649061203. f1:0.9578484544861243 acc: 0.9578333497047424 \n",
            "Epoch [80/100], loss: 0.14288225769996643. f1:0.9590108844269961 acc: 0.9589999914169312 \n",
            "Epoch [81/100], loss: 0.1402001678943634. f1:0.9596845570026155 acc: 0.9596666693687439 \n",
            "Epoch [82/100], loss: 0.13760721683502197. f1:0.9601892136380208 acc: 0.9601666927337646 \n",
            "Epoch [83/100], loss: 0.13507767021656036. f1:0.9606908900939107 acc: 0.9606666564941406 \n",
            "Epoch [84/100], loss: 0.13262419402599335. f1:0.9620140919222893 acc: 0.9620000123977661 \n",
            "Epoch [85/100], loss: 0.13022999465465546. f1:0.9633369352497434 acc: 0.9633333086967468 \n",
            "Epoch [86/100], loss: 0.12789762020111084. f1:0.9636694533683675 acc: 0.9636666774749756 \n",
            "Epoch [87/100], loss: 0.12560270726680756. f1:0.964334868740613 acc: 0.9643333554267883 \n",
            "Epoch [88/100], loss: 0.12334948778152466. f1:0.9646688562221586 acc: 0.9646666646003723 \n",
            "Epoch [89/100], loss: 0.12113945186138153. f1:0.9660059418093747 acc: 0.9660000205039978 \n",
            "Epoch [90/100], loss: 0.11898777633905411. f1:0.9665101461489606 acc: 0.9664999842643738 \n",
            "Epoch [91/100], loss: 0.11690925061702728. f1:0.9681634985325932 acc: 0.9681666493415833 \n",
            "Epoch [92/100], loss: 0.1148829460144043. f1:0.9691621966654494 acc: 0.9691666960716248 \n",
            "Epoch [93/100], loss: 0.11291027069091797. f1:0.9696614672914861 acc: 0.9696666598320007 \n",
            "Epoch [94/100], loss: 0.11098258197307587. f1:0.9703281430448026 acc: 0.9703333377838135 \n",
            "Epoch [95/100], loss: 0.10907914489507675. f1:0.9706614158604179 acc: 0.9706666469573975 \n",
            "Epoch [96/100], loss: 0.10720496624708176. f1:0.9715011293417692 acc: 0.9714999794960022 \n",
            "Epoch [97/100], loss: 0.1053815707564354. f1:0.9716687211174667 acc: 0.971666693687439 \n",
            "Epoch [98/100], loss: 0.10363727062940598. f1:0.9721675931842574 acc: 0.9721666574478149 \n",
            "Epoch [99/100], loss: 0.10193602740764618. f1:0.9728303962153344 acc: 0.9728333353996277 \n",
            "Epoch [100/100], loss: 0.10027087479829788. f1:0.9728301100703274 acc: 0.9728333353996277 \n"
          ],
          "name": "stdout"
        }
      ]
    },
    {
      "cell_type": "code",
      "metadata": {
        "colab": {
          "base_uri": "https://localhost:8080/",
          "height": 335
        },
        "id": "HvIRZL4VKCrS",
        "outputId": "ee6c6bb5-cf7e-40e8-ee9b-4eefffd1e154"
      },
      "source": [
        "\n",
        "#-- Visualizamos las curvas de entrenamiento y validación\n",
        "\n",
        "fig = plt.figure(figsize=(15,5))\n",
        "plt.subplot(1,3,1)\n",
        "plt.plot(range(n_epoch), loss_train, label='train')\n",
        "plt.plot(range(n_epoch), loss_valid, label='valid')\n",
        "plt.xlabel('n_epoch')\n",
        "plt.ylabel('loss')\n",
        "plt.legend()\n",
        "plt.grid()\n",
        "plt.subplot(1,3,2)\n",
        "plt.plot(range(n_epoch), f1_train, label='train')\n",
        "plt.plot(range(n_epoch), f1_valid, label='valid')\n",
        "plt.xlabel('n_epoch')\n",
        "plt.ylabel('f1_score')\n",
        "plt.legend()\n",
        "plt.grid()\n",
        "plt.subplot(1,3,3)\n",
        "plt.plot(range(n_epoch), acc_train, label='train')\n",
        "plt.plot(range(n_epoch), acc_valid, label='valid')\n",
        "plt.xlabel('n_epoch')\n",
        "plt.ylabel('accuracy')\n",
        "plt.legend()\n",
        "plt.grid()\n",
        "\n",
        "plt.savefig('./curves_ok.png', bbox_inches='tight')\n",
        "plt.show()"
      ],
      "execution_count": 13,
      "outputs": [
        {
          "output_type": "display_data",
          "data": {
            "image/png": "[encoded data removed]",
            "text/plain": [
              "<Figure size 1080x360 with 3 Axes>"
            ]
          },
          "metadata": {
            "needs_background": "light"
          }
        }
      ]
    },
    {
      "cell_type": "code",
      "metadata": {
        "colab": {
          "base_uri": "https://localhost:8080/"
        },
        "id": "0jnolnFVKIo2",
        "outputId": "7bdbb989-4960-455c-e5ce-be4e347aa213"
      },
      "source": [
        "#-- Evaluamos el modelo entrenado con el set de testeo\n",
        "\n",
        "model.eval()\n",
        "\n",
        "Xts = X_test.view(X_test.size(0), -1)\n",
        "Y_pred = model(Xts)  \n",
        "loss = criterion(Y_pred,Y_test)\n",
        "\n",
        "Y_pred = torch.argmax(Y_pred, 1)\n",
        "f1 = f1_score(Y_test, Y_pred, average='macro')\n",
        "\n",
        "acc = sum(Y_test == Y_pred)/len(Y_pred)\n",
        "\n",
        "print('loss: {}, f1: {}, acc: {}'.format(loss.item(), f1, acc))"
      ],
      "execution_count": 14,
      "outputs": [
        {
          "output_type": "stream",
          "text": [
            "loss: 0.33839091658592224, f1: 0.9060380398129677, acc: 0.90625\n"
          ],
          "name": "stdout"
        }
      ]
    },
    {
      "cell_type": "markdown",
      "metadata": {
        "id": "RyERWg8uKzof"
      },
      "source": [
        "# CASO #2: 80% DE LOS DATOS"
      ]
    },
    {
      "cell_type": "code",
      "metadata": {
        "colab": {
          "base_uri": "https://localhost:8080/"
        },
        "id": "l-bO-BDnKMeq",
        "outputId": "320e6034-71b3-4bea-f616-e6786ef7f9da"
      },
      "source": [
        "from glob import glob\n",
        "\n",
        "train_files = glob('./mnist/train/*/*.png')\n",
        "valid_files = glob('./mnist/valid/*/*.png')\n",
        "test_files = glob('./mnist/test/*/*.png')\n",
        "\n",
        "type(train_files)\n",
        "# Como se busca hacerlo para el 80% de los datos de entrenamiento, entonces se tomarán los datos hasta el 4800.\n",
        "train_files2 = train_files[0:4800]\n",
        "len(train_files2)"
      ],
      "execution_count": 15,
      "outputs": [
        {
          "output_type": "execute_result",
          "data": {
            "text/plain": [
              "4800"
            ]
          },
          "metadata": {},
          "execution_count": 15
        }
      ]
    },
    {
      "cell_type": "code",
      "metadata": {
        "colab": {
          "base_uri": "https://localhost:8080/"
        },
        "id": "gbeBKPUHK3Lm",
        "outputId": "e7f419cb-f76a-43b7-8454-6c4588f8e983"
      },
      "source": [
        "np.random.shuffle(train_files2)\n",
        "np.random.shuffle(valid_files)\n",
        "np.random.shuffle(test_files)\n",
        "\n",
        "len(train_files2), len(valid_files), len(test_files)"
      ],
      "execution_count": 16,
      "outputs": [
        {
          "output_type": "execute_result",
          "data": {
            "text/plain": [
              "(4800, 2000, 992)"
            ]
          },
          "metadata": {},
          "execution_count": 16
        }
      ]
    },
    {
      "cell_type": "code",
      "metadata": {
        "id": "nocSMOCRMUmX"
      },
      "source": [
        "N_train = len(train_files2)\n",
        "X_train = []\n",
        "Y_train = []\n",
        "\n",
        "for i, train_file2 in enumerate(train_files2):\n",
        "  Y_train.append( int(train_file2.split('/')[3]) )\n",
        "  X_train.append(np.array(Image.open(train_file2)))"
      ],
      "execution_count": 17,
      "outputs": []
    },
    {
      "cell_type": "code",
      "metadata": {
        "id": "rs8VWTnfMcpQ"
      },
      "source": [
        "N_valid = len(valid_files)\n",
        "X_valid = []\n",
        "Y_valid = []\n",
        "\n",
        "for i, valid_file in enumerate(valid_files):\n",
        "  Y_valid.append( int(valid_file.split('/')[3]) )\n",
        "  X_valid.append( np.array(Image.open(valid_file)) )"
      ],
      "execution_count": 18,
      "outputs": []
    },
    {
      "cell_type": "code",
      "metadata": {
        "id": "miuoR5WMMqpF"
      },
      "source": [
        "N_test = len(test_files)\n",
        "X_test = []\n",
        "Y_test = []\n",
        "\n",
        "for i, test_file in enumerate(test_files):\n",
        "  Y_test.append( int(test_file.split('/')[3]) )\n",
        "  X_test.append( np.array(Image.open(test_file)) )"
      ],
      "execution_count": 19,
      "outputs": []
    },
    {
      "cell_type": "code",
      "metadata": {
        "colab": {
          "base_uri": "https://localhost:8080/"
        },
        "id": "q5EI2bpnMuDb",
        "outputId": "9ebad7c2-c727-4f71-97c7-541088811cbf"
      },
      "source": [
        "len(X_train), len(X_valid), len(X_test)"
      ],
      "execution_count": 20,
      "outputs": [
        {
          "output_type": "execute_result",
          "data": {
            "text/plain": [
              "(4800, 2000, 992)"
            ]
          },
          "metadata": {},
          "execution_count": 20
        }
      ]
    },
    {
      "cell_type": "code",
      "metadata": {
        "colab": {
          "base_uri": "https://localhost:8080/",
          "height": 350
        },
        "id": "VcZfySVlMwoX",
        "outputId": "aad84098-12c6-4029-dbd4-362badabd644"
      },
      "source": [
        "from PIL import Image\n",
        "import matplotlib.pyplot as plt\n",
        "\n",
        "fig = plt.figure(figsize=(15,5))\n",
        "plt.subplot(1,3,1)\n",
        "plt.hist(np.sort(Y_train))\n",
        "plt.xlabel('class')\n",
        "plt.ylabel('counts')\n",
        "plt.title('Train set')\n",
        "\n",
        "plt.subplot(1,3,2)\n",
        "plt.hist(np.sort(Y_valid))\n",
        "plt.xlabel('class')\n",
        "plt.ylabel('counts')\n",
        "plt.title('Valid set')\n",
        "\n",
        "plt.subplot(1,3,3)\n",
        "plt.hist(np.sort(Y_test))\n",
        "plt.xlabel('class')\n",
        "plt.ylabel('counts')\n",
        "plt.title('Test set')\n",
        "\n",
        "plt.show()"
      ],
      "execution_count": 21,
      "outputs": [
        {
          "output_type": "display_data",
          "data": {
            "image/png": "[encoded data removed]",
            "text/plain": [
              "<Figure size 1080x360 with 3 Axes>"
            ]
          },
          "metadata": {
            "needs_background": "light"
          }
        }
      ]
    },
    {
      "cell_type": "code",
      "metadata": {
        "colab": {
          "base_uri": "https://localhost:8080/",
          "height": 482
        },
        "id": "w8EtoJDGMzR9",
        "outputId": "b8422572-727a-4019-c123-c73d4919cfc9"
      },
      "source": [
        "fig = plt.figure(figsize=(8,8))\n",
        "for i in range(4):\n",
        "  plt.subplot(2,2,i+1)\n",
        "  plt.imshow(X_test[i*15])\n",
        "  plt.title(Y_test[i*15])\n",
        "  plt.axis(False)\n",
        "plt.show()"
      ],
      "execution_count": 22,
      "outputs": [
        {
          "output_type": "display_data",
          "data": {
            "image/png": "[encoded data removed]",
            "text/plain": [
              "<Figure size 576x576 with 4 Axes>"
            ]
          },
          "metadata": {
            "needs_background": "light"
          }
        }
      ]
    },
    {
      "cell_type": "code",
      "metadata": {
        "colab": {
          "base_uri": "https://localhost:8080/"
        },
        "id": "WUlAgpZvM3-c",
        "outputId": "0599df32-835d-4920-a121-342a5caf901e"
      },
      "source": [
        "X_train = Variable(torch.from_numpy(np.array(X_train))).float()\n",
        "Y_train = Variable(torch.from_numpy(np.array(Y_train))).long()\n",
        "\n",
        "X_valid = Variable(torch.from_numpy(np.array(X_valid))).float()\n",
        "Y_valid = Variable(torch.from_numpy(np.array(Y_valid))).long()\n",
        "\n",
        "X_test = Variable(torch.from_numpy(np.array(X_test))).float()\n",
        "Y_test = Variable(torch.from_numpy(np.array(Y_test))).long()\n",
        "\n",
        "X_train.data.size()"
      ],
      "execution_count": 23,
      "outputs": [
        {
          "output_type": "execute_result",
          "data": {
            "text/plain": [
              "torch.Size([4800, 28, 28])"
            ]
          },
          "metadata": {},
          "execution_count": 23
        }
      ]
    },
    {
      "cell_type": "code",
      "metadata": {
        "id": "kwepMK96M_6R"
      },
      "source": [
        "input_dim = 28*28\n",
        "out_dim = 10\n",
        "hidden = 50\n",
        "\n",
        "model = torch.nn.Sequential(\n",
        "  torch.nn.Linear(input_dim, hidden),\n",
        "  torch.nn.ReLU(),  \n",
        "  torch.nn.Linear(hidden, hidden),\n",
        "  torch.nn.ReLU(),       \n",
        "  torch.nn.Linear(hidden, out_dim)\n",
        ")\n",
        "\n",
        "optimizer = torch.optim.Adam(model.parameters())\n",
        "criterion = torch.nn.CrossEntropyLoss()"
      ],
      "execution_count": 24,
      "outputs": []
    },
    {
      "cell_type": "code",
      "metadata": {
        "id": "qT3P-vJSNCad"
      },
      "source": [
        "n_epoch = 100\n",
        "\n",
        "loss_train = []\n",
        "f1_train = []\n",
        "acc_train = []\n",
        "\n",
        "loss_valid = []\n",
        "f1_valid = []\n",
        "acc_valid = []\n",
        "\n",
        "for epoch in range(n_epoch):\n",
        "  model.train()\n",
        "  \n",
        "  Xtr = X_train.view(X_train.size(0), -1)\n",
        "  Y_pred = model(Xtr)\n",
        "\n",
        "  loss = criterion(Y_pred,Y_train)\n",
        "  loss_train.append(loss.item())\n",
        "\n",
        "  Y_pred = torch.argmax(Y_pred, 1)\n",
        "  f1_train.append( f1_score(Y_train,Y_pred, average='macro') )\n",
        "  \n",
        "  acc = sum(Y_train == Y_pred)/len(Y_pred)\n",
        "  acc_train.append(acc)\n",
        "\n",
        "  optimizer.zero_grad()\n",
        "  loss.backward()\n",
        "  optimizer.step()\n",
        "\n",
        "  model.eval()\n",
        "  Xvl = X_valid.view(X_valid.size(0), -1)\n",
        "  Y_pred = model(Xvl)  \n",
        "  loss = criterion(Y_pred,Y_valid)\n",
        "  loss_valid.append(loss.item())\n",
        "\n",
        "  Y_pred = torch.argmax(Y_pred, 1)\n",
        "  f1_valid.append( f1_score(Y_valid, Y_pred, average='macro') )\n",
        "\n",
        "  acc = sum(Y_valid == Y_pred)/len(Y_pred)\n",
        "  acc_valid.append(acc)\n"
      ],
      "execution_count": 25,
      "outputs": []
    },
    {
      "cell_type": "code",
      "metadata": {
        "colab": {
          "base_uri": "https://localhost:8080/",
          "height": 335
        },
        "id": "qamCUATPNPi7",
        "outputId": "38c1a886-5b58-420c-9456-aa6c731bb087"
      },
      "source": [
        "fig = plt.figure(figsize=(15,5))\n",
        "plt.subplot(1,3,1)\n",
        "plt.plot(range(n_epoch), loss_train, label='train')\n",
        "plt.plot(range(n_epoch), loss_valid, label='valid')\n",
        "plt.xlabel('n_epoch')\n",
        "plt.ylabel('loss')\n",
        "plt.legend()\n",
        "plt.grid()\n",
        "plt.subplot(1,3,2)\n",
        "plt.plot(range(n_epoch), f1_train, label='train')\n",
        "plt.plot(range(n_epoch), f1_valid, label='valid')\n",
        "plt.xlabel('n_epoch')\n",
        "plt.ylabel('f1_score')\n",
        "plt.legend()\n",
        "plt.grid()\n",
        "plt.subplot(1,3,3)\n",
        "plt.plot(range(n_epoch), acc_train, label='train')\n",
        "plt.plot(range(n_epoch), acc_valid, label='valid')\n",
        "plt.xlabel('n_epoch')\n",
        "plt.ylabel('accuracy')\n",
        "plt.legend()\n",
        "plt.grid()\n",
        "\n",
        "plt.savefig('./curves_ok.png', bbox_inches='tight')\n",
        "plt.show()"
      ],
      "execution_count": 26,
      "outputs": [
        {
          "output_type": "display_data",
          "data": {
            "image/png": "[encoded data removed]",
            "text/plain": [
              "<Figure size 1080x360 with 3 Axes>"
            ]
          },
          "metadata": {
            "needs_background": "light"
          }
        }
      ]
    },
    {
      "cell_type": "code",
      "metadata": {
        "colab": {
          "base_uri": "https://localhost:8080/"
        },
        "id": "TlbTohk_NU6A",
        "outputId": "9bf0d7d9-74a6-4e5c-8ea5-1d3a71573d86"
      },
      "source": [
        "model.eval()\n",
        "\n",
        "Xts = X_test.view(X_test.size(0), -1)\n",
        "Y_pred = model(Xts)  \n",
        "loss = criterion(Y_pred,Y_test)\n",
        "\n",
        "Y_pred = torch.argmax(Y_pred, 1)\n",
        "f1 = f1_score(Y_test, Y_pred, average='macro')\n",
        "\n",
        "acc = sum(Y_test == Y_pred)/len(Y_pred)\n",
        "\n",
        "print('loss: {}, f1: {}, acc: {}'.format(loss.item(), f1, acc))"
      ],
      "execution_count": 27,
      "outputs": [
        {
          "output_type": "stream",
          "text": [
            "loss: 3.1135504245758057, f1: 0.6614722751135741, acc: 0.7338709831237793\n"
          ],
          "name": "stdout"
        }
      ]
    },
    {
      "cell_type": "markdown",
      "metadata": {
        "id": "4Hlq2lqdOAyt"
      },
      "source": [
        "# CASO 3: 50% DE LOS DATOS"
      ]
    },
    {
      "cell_type": "code",
      "metadata": {
        "colab": {
          "base_uri": "https://localhost:8080/"
        },
        "id": "Ip8hWDXPNX_A",
        "outputId": "862f8223-d9e1-4099-9b09-0b92f6da52a2"
      },
      "source": [
        "from glob import glob\n",
        "\n",
        "train_files = glob('./mnist/train/*/*.png')\n",
        "valid_files = glob('./mnist/valid/*/*.png')\n",
        "test_files = glob('./mnist/test/*/*.png')\n",
        "\n",
        "type(train_files)\n",
        "# De igual forma que en el caso anterior, se tomará ahora el 50% de los datos que se encuentran en el conjunto incial. \n",
        "train_files3 = train_files[0:3000]\n",
        "len(train_files3)"
      ],
      "execution_count": 28,
      "outputs": [
        {
          "output_type": "execute_result",
          "data": {
            "text/plain": [
              "3000"
            ]
          },
          "metadata": {},
          "execution_count": 28
        }
      ]
    },
    {
      "cell_type": "code",
      "metadata": {
        "colab": {
          "base_uri": "https://localhost:8080/"
        },
        "id": "3f56CNZ9OTw0",
        "outputId": "c1f8f1a0-37ff-4c43-9767-5bcb11042d84"
      },
      "source": [
        "np.random.shuffle(train_files3)\n",
        "np.random.shuffle(valid_files)\n",
        "np.random.shuffle(test_files)\n",
        "\n",
        "len(train_files3), len(valid_files), len(test_files)"
      ],
      "execution_count": 29,
      "outputs": [
        {
          "output_type": "execute_result",
          "data": {
            "text/plain": [
              "(3000, 2000, 992)"
            ]
          },
          "metadata": {},
          "execution_count": 29
        }
      ]
    },
    {
      "cell_type": "code",
      "metadata": {
        "id": "cU7Is-ECYgbn"
      },
      "source": [
        "N_train = len(train_files3)\n",
        "X_train = []\n",
        "Y_train = []\n",
        "\n",
        "for i, train_file3 in enumerate(train_files3):\n",
        "  Y_train.append( int(train_file3.split('/')[3]) )\n",
        "  X_train.append(np.array(Image.open(train_file3)))"
      ],
      "execution_count": 30,
      "outputs": []
    },
    {
      "cell_type": "code",
      "metadata": {
        "id": "qrBVZVdZYnHk"
      },
      "source": [
        "N_valid = len(valid_files)\n",
        "X_valid = []\n",
        "Y_valid = []\n",
        "\n",
        "for i, valid_file in enumerate(valid_files):\n",
        "  Y_valid.append( int(valid_file.split('/')[3]) )\n",
        "  X_valid.append( np.array(Image.open(valid_file)))"
      ],
      "execution_count": 31,
      "outputs": []
    },
    {
      "cell_type": "code",
      "metadata": {
        "id": "oG-zYMoWYqIk"
      },
      "source": [
        "N_test = len(test_files)\n",
        "X_test = []\n",
        "Y_test = []\n",
        "\n",
        "for i, test_file in enumerate(test_files):\n",
        "  Y_test.append( int(test_file.split('/')[3]) )\n",
        "  X_test.append( np.array(Image.open(test_file)) )"
      ],
      "execution_count": 32,
      "outputs": []
    },
    {
      "cell_type": "code",
      "metadata": {
        "colab": {
          "base_uri": "https://localhost:8080/",
          "height": 350
        },
        "id": "_JTFM7XKYvfn",
        "outputId": "29cbcd2a-927e-4574-85da-da16941261d0"
      },
      "source": [
        "fig = plt.figure(figsize=(15,5))\n",
        "plt.subplot(1,3,1)\n",
        "plt.hist(np.sort(Y_train))\n",
        "plt.xlabel('class')\n",
        "plt.ylabel('counts')\n",
        "plt.title('Train set')\n",
        "\n",
        "plt.subplot(1,3,2)\n",
        "plt.hist(np.sort(Y_valid))\n",
        "plt.xlabel('class')\n",
        "plt.ylabel('counts')\n",
        "plt.title('Valid set')\n",
        "\n",
        "plt.subplot(1,3,3)\n",
        "plt.hist(np.sort(Y_test))\n",
        "plt.xlabel('class')\n",
        "plt.ylabel('counts')\n",
        "plt.title('Test set')\n",
        "\n",
        "plt.show()"
      ],
      "execution_count": 33,
      "outputs": [
        {
          "output_type": "display_data",
          "data": {
            "image/png": "[encoded data removed]",
            "text/plain": [
              "<Figure size 1080x360 with 3 Axes>"
            ]
          },
          "metadata": {
            "needs_background": "light"
          }
        }
      ]
    },
    {
      "cell_type": "code",
      "metadata": {
        "colab": {
          "base_uri": "https://localhost:8080/",
          "height": 482
        },
        "id": "lzM58nMpYzMG",
        "outputId": "70a672bf-8ca8-48e1-b015-57c8b745950e"
      },
      "source": [
        "fig = plt.figure(figsize=(8,8))\n",
        "for i in range(4):\n",
        "  plt.subplot(2,2,i+1)\n",
        "  plt.imshow(X_test[i*15])\n",
        "  plt.title(Y_test[i*15])\n",
        "  plt.axis(False)\n",
        "plt.show()"
      ],
      "execution_count": 34,
      "outputs": [
        {
          "output_type": "display_data",
          "data": {
            "image/png": "[encoded data removed]",
            "text/plain": [
              "<Figure size 576x576 with 4 Axes>"
            ]
          },
          "metadata": {
            "needs_background": "light"
          }
        }
      ]
    },
    {
      "cell_type": "code",
      "metadata": {
        "colab": {
          "base_uri": "https://localhost:8080/"
        },
        "id": "IYtjWJCPY3ck",
        "outputId": "41e9c3ef-bbc0-45f5-e38c-dd9f62305f4a"
      },
      "source": [
        "X_train = Variable(torch.from_numpy(np.array(X_train))).float()\n",
        "Y_train = Variable(torch.from_numpy(np.array(Y_train))).long()\n",
        "\n",
        "X_valid = Variable(torch.from_numpy(np.array(X_valid))).float()\n",
        "Y_valid = Variable(torch.from_numpy(np.array(Y_valid))).long()\n",
        "\n",
        "X_test = Variable(torch.from_numpy(np.array(X_test))).float()\n",
        "Y_test = Variable(torch.from_numpy(np.array(Y_test))).long()\n",
        "\n",
        "X_train.data.size()"
      ],
      "execution_count": 35,
      "outputs": [
        {
          "output_type": "execute_result",
          "data": {
            "text/plain": [
              "torch.Size([3000, 28, 28])"
            ]
          },
          "metadata": {},
          "execution_count": 35
        }
      ]
    },
    {
      "cell_type": "code",
      "metadata": {
        "id": "8ldgZJuAY6Rh"
      },
      "source": [
        "input_dim = 28*28\n",
        "out_dim = 10\n",
        "hidden = 50\n",
        "\n",
        "model = torch.nn.Sequential(\n",
        "  torch.nn.Linear(input_dim, hidden),\n",
        "  torch.nn.ReLU(),  \n",
        "  torch.nn.Linear(hidden, hidden),\n",
        "  torch.nn.ReLU(),       \n",
        "  torch.nn.Linear(hidden, out_dim)\n",
        ")\n",
        "\n",
        "optimizer = torch.optim.Adam(model.parameters())\n",
        "criterion = torch.nn.CrossEntropyLoss()"
      ],
      "execution_count": 36,
      "outputs": []
    },
    {
      "cell_type": "code",
      "metadata": {
        "id": "6qesOXxhY-MJ"
      },
      "source": [
        "n_epoch = 100\n",
        "\n",
        "loss_train = []\n",
        "f1_train = []\n",
        "acc_train = []\n",
        "\n",
        "loss_valid = []\n",
        "f1_valid = []\n",
        "acc_valid = []\n",
        "\n",
        "for epoch in range(n_epoch):\n",
        "  model.train()\n",
        "  \n",
        "  Xtr = X_train.view(X_train.size(0), -1)\n",
        "  Y_pred = model(Xtr)\n",
        "\n",
        "  loss = criterion(Y_pred,Y_train)\n",
        "  loss_train.append(loss.item())\n",
        "\n",
        "  Y_pred = torch.argmax(Y_pred, 1)\n",
        "  f1_train.append( f1_score(Y_train,Y_pred, average='macro') )\n",
        "  \n",
        "  acc = sum(Y_train == Y_pred)/len(Y_pred)\n",
        "  acc_train.append(acc)\n",
        "\n",
        "  optimizer.zero_grad()\n",
        "  loss.backward()\n",
        "  optimizer.step()\n",
        "\n",
        "  model.eval()\n",
        "  Xvl = X_valid.view(X_valid.size(0), -1)\n",
        "  Y_pred = model(Xvl)  \n",
        "  loss = criterion(Y_pred,Y_valid)\n",
        "  loss_valid.append(loss.item())\n",
        "\n",
        "  Y_pred = torch.argmax(Y_pred, 1)\n",
        "  f1_valid.append( f1_score(Y_valid, Y_pred, average='macro') )\n",
        "\n",
        "  acc = sum(Y_valid == Y_pred)/len(Y_pred)\n",
        "  acc_valid.append(acc)\n"
      ],
      "execution_count": 37,
      "outputs": []
    },
    {
      "cell_type": "code",
      "metadata": {
        "colab": {
          "base_uri": "https://localhost:8080/",
          "height": 335
        },
        "id": "BLFRSnwbZFfR",
        "outputId": "bea63fdd-c9d1-4656-8069-17d63b0d7386"
      },
      "source": [
        "fig = plt.figure(figsize=(15,5))\n",
        "plt.subplot(1,3,1)\n",
        "plt.plot(range(n_epoch), loss_train, label='train')\n",
        "plt.plot(range(n_epoch), loss_valid, label='valid')\n",
        "plt.xlabel('n_epoch')\n",
        "plt.ylabel('loss')\n",
        "plt.legend()\n",
        "plt.grid()\n",
        "plt.subplot(1,3,2)\n",
        "plt.plot(range(n_epoch), f1_train, label='train')\n",
        "plt.plot(range(n_epoch), f1_valid, label='valid')\n",
        "plt.xlabel('n_epoch')\n",
        "plt.ylabel('f1_score')\n",
        "plt.legend()\n",
        "plt.grid()\n",
        "plt.subplot(1,3,3)\n",
        "plt.plot(range(n_epoch), acc_train, label='train')\n",
        "plt.plot(range(n_epoch), acc_valid, label='valid')\n",
        "plt.xlabel('n_epoch')\n",
        "plt.ylabel('accuracy')\n",
        "plt.legend()\n",
        "plt.grid()\n",
        "\n",
        "plt.savefig('./curves_ok.png', bbox_inches='tight')\n",
        "plt.show()"
      ],
      "execution_count": 38,
      "outputs": [
        {
          "output_type": "display_data",
          "data": {
            "image/png": "[encoded data removed]",
            "text/plain": [
              "<Figure size 1080x360 with 3 Axes>"
            ]
          },
          "metadata": {
            "needs_background": "light"
          }
        }
      ]
    },
    {
      "cell_type": "code",
      "metadata": {
        "colab": {
          "base_uri": "https://localhost:8080/"
        },
        "id": "-aZwOzYPZPkX",
        "outputId": "0d2a7f6c-b47b-4bf6-d76c-5324c1036ed2"
      },
      "source": [
        "model.eval()\n",
        "\n",
        "Xts = X_test.view(X_test.size(0), -1)\n",
        "Y_pred = model(Xts)  \n",
        "loss = criterion(Y_pred,Y_test)\n",
        "\n",
        "Y_pred = torch.argmax(Y_pred, 1)\n",
        "f1 = f1_score(Y_test, Y_pred, average='macro')\n",
        "\n",
        "acc = sum(Y_test == Y_pred)/len(Y_pred)\n",
        "\n",
        "print('loss: {}, f1: {}, acc: {}'.format(loss.item(), f1, acc))"
      ],
      "execution_count": 39,
      "outputs": [
        {
          "output_type": "stream",
          "text": [
            "loss: 11.271595001220703, f1: 0.34296290319072104, acc: 0.4838709533214569\n"
          ],
          "name": "stdout"
        }
      ]
    },
    {
      "cell_type": "markdown",
      "metadata": {
        "id": "cFBONES_ZYVI"
      },
      "source": [
        "# CASO 4: 20% DE LOS DATOS"
      ]
    },
    {
      "cell_type": "code",
      "metadata": {
        "colab": {
          "base_uri": "https://localhost:8080/"
        },
        "id": "N6bCXaTEZTvq",
        "outputId": "7db6fecd-4ef1-4f94-a87d-e0ff20be7c0b"
      },
      "source": [
        "from glob import glob\n",
        "\n",
        "train_files = glob('./mnist/train/*/*.png')\n",
        "valid_files = glob('./mnist/valid/*/*.png')\n",
        "test_files = glob('./mnist/test/*/*.png')\n",
        "\n",
        "type(train_files)\n",
        "# De igual forma que en el caso anterior, se tomará ahora el 20% de los datos que se encuentran en el conjunto incial. \n",
        "train_files4 = train_files[0:1200]\n",
        "len(train_files4)"
      ],
      "execution_count": 40,
      "outputs": [
        {
          "output_type": "execute_result",
          "data": {
            "text/plain": [
              "1200"
            ]
          },
          "metadata": {},
          "execution_count": 40
        }
      ]
    },
    {
      "cell_type": "code",
      "metadata": {
        "colab": {
          "base_uri": "https://localhost:8080/"
        },
        "id": "7iS5pBukZp3i",
        "outputId": "6b882468-22cb-47c4-9b8c-5f697e37b303"
      },
      "source": [
        "np.random.shuffle(train_files4)\n",
        "np.random.shuffle(valid_files)\n",
        "np.random.shuffle(test_files)\n",
        "\n",
        "len(train_files4), len(valid_files), len(test_files)"
      ],
      "execution_count": 41,
      "outputs": [
        {
          "output_type": "execute_result",
          "data": {
            "text/plain": [
              "(1200, 2000, 992)"
            ]
          },
          "metadata": {},
          "execution_count": 41
        }
      ]
    },
    {
      "cell_type": "code",
      "metadata": {
        "id": "D8tXhmP_ZvO3"
      },
      "source": [
        "N_train = len(train_files4)\n",
        "X_train = []\n",
        "Y_train = []\n",
        "\n",
        "for i, train_file4 in enumerate(train_files4):\n",
        "  Y_train.append( int(train_file4.split('/')[3]) )\n",
        "  X_train.append(np.array(Image.open(train_file4)))"
      ],
      "execution_count": 42,
      "outputs": []
    },
    {
      "cell_type": "code",
      "metadata": {
        "id": "u0ZTkxpNbX4e"
      },
      "source": [
        "N_valid = len(valid_files)\n",
        "X_valid = []\n",
        "Y_valid = []\n",
        "\n",
        "for i, valid_file in enumerate(valid_files):\n",
        "  Y_valid.append( int(valid_file.split('/')[3]) )\n",
        "  X_valid.append( np.array(Image.open(valid_file)))"
      ],
      "execution_count": 43,
      "outputs": []
    },
    {
      "cell_type": "code",
      "metadata": {
        "id": "1xMG8bbgZz6u"
      },
      "source": [
        "N_test = len(test_files)\n",
        "X_test = []\n",
        "Y_test = []\n",
        "\n",
        "for i, test_file in enumerate(test_files):\n",
        "  Y_test.append( int(test_file.split('/')[3]) )\n",
        "  X_test.append( np.array(Image.open(test_file)) )"
      ],
      "execution_count": 44,
      "outputs": []
    },
    {
      "cell_type": "code",
      "metadata": {
        "colab": {
          "base_uri": "https://localhost:8080/",
          "height": 350
        },
        "id": "ZR6FjGLcZ2Mb",
        "outputId": "d917eb8d-c745-4493-e6ad-e6116ed70091"
      },
      "source": [
        "fig = plt.figure(figsize=(15,5))\n",
        "plt.subplot(1,3,1)\n",
        "plt.hist(np.sort(Y_train))\n",
        "plt.xlabel('class')\n",
        "plt.ylabel('counts')\n",
        "plt.title('Train set')\n",
        "\n",
        "plt.subplot(1,3,2)\n",
        "plt.hist(np.sort(Y_valid))\n",
        "plt.xlabel('class')\n",
        "plt.ylabel('counts')\n",
        "plt.title('Valid set')\n",
        "\n",
        "plt.subplot(1,3,3)\n",
        "plt.hist(np.sort(Y_test))\n",
        "plt.xlabel('class')\n",
        "plt.ylabel('counts')\n",
        "plt.title('Test set')\n",
        "\n",
        "plt.show()"
      ],
      "execution_count": 45,
      "outputs": [
        {
          "output_type": "display_data",
          "data": {
            "image/png": "[encoded data removed]",
            "text/plain": [
              "<Figure size 1080x360 with 3 Axes>"
            ]
          },
          "metadata": {
            "needs_background": "light"
          }
        }
      ]
    },
    {
      "cell_type": "code",
      "metadata": {
        "colab": {
          "base_uri": "https://localhost:8080/",
          "height": 482
        },
        "id": "KFbGWj8tZ_yT",
        "outputId": "32b4cdcd-d007-409b-d577-ef4838c83faa"
      },
      "source": [
        "fig = plt.figure(figsize=(8,8))\n",
        "for i in range(4):\n",
        "  plt.subplot(2,2,i+1)\n",
        "  plt.imshow(X_test[i*15])\n",
        "  plt.title(Y_test[i*15])\n",
        "  plt.axis(False)\n",
        "plt.show()"
      ],
      "execution_count": 46,
      "outputs": [
        {
          "output_type": "display_data",
          "data": {
            "image/png": "[encoded data removed]",
            "text/plain": [
              "<Figure size 576x576 with 4 Axes>"
            ]
          },
          "metadata": {
            "needs_background": "light"
          }
        }
      ]
    },
    {
      "cell_type": "code",
      "metadata": {
        "colab": {
          "base_uri": "https://localhost:8080/"
        },
        "id": "GGq5QoheaDpc",
        "outputId": "20d59267-5f7f-4fd2-d909-862acae3ba7d"
      },
      "source": [
        "X_train = Variable(torch.from_numpy(np.array(X_train))).float()\n",
        "Y_train = Variable(torch.from_numpy(np.array(Y_train))).long()\n",
        "\n",
        "X_valid = Variable(torch.from_numpy(np.array(X_valid))).float()\n",
        "Y_valid = Variable(torch.from_numpy(np.array(Y_valid))).long()\n",
        "\n",
        "X_test = Variable(torch.from_numpy(np.array(X_test))).float()\n",
        "Y_test = Variable(torch.from_numpy(np.array(Y_test))).long()\n",
        "\n",
        "X_train.data.size()"
      ],
      "execution_count": 47,
      "outputs": [
        {
          "output_type": "execute_result",
          "data": {
            "text/plain": [
              "torch.Size([1200, 28, 28])"
            ]
          },
          "metadata": {},
          "execution_count": 47
        }
      ]
    },
    {
      "cell_type": "code",
      "metadata": {
        "id": "unHJq9ZtaMhV"
      },
      "source": [
        "input_dim = 28*28\n",
        "out_dim = 10\n",
        "hidden = 50\n",
        "\n",
        "model = torch.nn.Sequential(\n",
        "  torch.nn.Linear(input_dim, hidden),\n",
        "  torch.nn.ReLU(),  \n",
        "  torch.nn.Linear(hidden, hidden),\n",
        "  torch.nn.ReLU(),       \n",
        "  torch.nn.Linear(hidden, out_dim)\n",
        ")\n",
        "\n",
        "optimizer = torch.optim.Adam(model.parameters())\n",
        "criterion = torch.nn.CrossEntropyLoss()"
      ],
      "execution_count": 48,
      "outputs": []
    },
    {
      "cell_type": "code",
      "metadata": {
        "id": "mDH1Cw1PaO5_"
      },
      "source": [
        "n_epoch = 100\n",
        "\n",
        "loss_train = []\n",
        "f1_train = []\n",
        "acc_train = []\n",
        "\n",
        "loss_valid = []\n",
        "f1_valid = []\n",
        "acc_valid = []\n",
        "\n",
        "for epoch in range(n_epoch):\n",
        "  model.train()\n",
        "  \n",
        "  Xtr = X_train.view(X_train.size(0), -1)\n",
        "  Y_pred = model(Xtr)\n",
        "\n",
        "  loss = criterion(Y_pred,Y_train)\n",
        "  loss_train.append(loss.item())\n",
        "\n",
        "  Y_pred = torch.argmax(Y_pred, 1)\n",
        "  f1_train.append( f1_score(Y_train,Y_pred, average='macro') )\n",
        "  \n",
        "  acc = sum(Y_train == Y_pred)/len(Y_pred)\n",
        "  acc_train.append(acc)\n",
        "\n",
        "  optimizer.zero_grad()\n",
        "  loss.backward()\n",
        "  optimizer.step()\n",
        "\n",
        "  model.eval()\n",
        "  Xvl = X_valid.view(X_valid.size(0), -1)\n",
        "  Y_pred = model(Xvl)  \n",
        "  loss = criterion(Y_pred,Y_valid)\n",
        "  loss_valid.append(loss.item())\n",
        "\n",
        "  Y_pred = torch.argmax(Y_pred, 1)\n",
        "  f1_valid.append( f1_score(Y_valid, Y_pred, average='macro') )\n",
        "\n",
        "  acc = sum(Y_valid == Y_pred)/len(Y_pred)\n",
        "  acc_valid.append(acc)"
      ],
      "execution_count": 49,
      "outputs": []
    },
    {
      "cell_type": "code",
      "metadata": {
        "colab": {
          "base_uri": "https://localhost:8080/",
          "height": 335
        },
        "id": "2b8LPx5HaTeM",
        "outputId": "db8c0af9-339e-4e4b-cc85-76dca3f7a6ab"
      },
      "source": [
        "fig = plt.figure(figsize=(15,5))\n",
        "plt.subplot(1,3,1)\n",
        "plt.plot(range(n_epoch), loss_train, label='train')\n",
        "plt.plot(range(n_epoch), loss_valid, label='valid')\n",
        "plt.xlabel('n_epoch')\n",
        "plt.ylabel('loss')\n",
        "plt.legend()\n",
        "plt.grid()\n",
        "plt.subplot(1,3,2)\n",
        "plt.plot(range(n_epoch), f1_train, label='train')\n",
        "plt.plot(range(n_epoch), f1_valid, label='valid')\n",
        "plt.xlabel('n_epoch')\n",
        "plt.ylabel('f1_score')\n",
        "plt.legend()\n",
        "plt.grid()\n",
        "plt.subplot(1,3,3)\n",
        "plt.plot(range(n_epoch), acc_train, label='train')\n",
        "plt.plot(range(n_epoch), acc_valid, label='valid')\n",
        "plt.xlabel('n_epoch')\n",
        "plt.ylabel('accuracy')\n",
        "plt.legend()\n",
        "plt.grid()\n",
        "\n",
        "plt.savefig('./curves_ok.png', bbox_inches='tight')\n",
        "plt.show()"
      ],
      "execution_count": 50,
      "outputs": [
        {
          "output_type": "display_data",
          "data": {
            "image/png": "[encoded data removed]",
            "text/plain": [
              "<Figure size 1080x360 with 3 Axes>"
            ]
          },
          "metadata": {
            "needs_background": "light"
          }
        }
      ]
    },
    {
      "cell_type": "code",
      "metadata": {
        "colab": {
          "base_uri": "https://localhost:8080/"
        },
        "id": "wkVXfKeJaXN4",
        "outputId": "3ff3682c-45ef-416c-d8d2-2901c6fac7ad"
      },
      "source": [
        "model.eval()\n",
        "\n",
        "Xts = X_test.view(X_test.size(0), -1)\n",
        "Y_pred = model(Xts)  \n",
        "loss = criterion(Y_pred,Y_test)\n",
        "\n",
        "Y_pred = torch.argmax(Y_pred, 1)\n",
        "f1 = f1_score(Y_test, Y_pred, average='macro')\n",
        "\n",
        "acc = sum(Y_test == Y_pred)/len(Y_pred)\n",
        "\n",
        "print('loss: {}, f1: {}, acc: {}'.format(loss.item(), f1, acc))"
      ],
      "execution_count": 51,
      "outputs": [
        {
          "output_type": "stream",
          "text": [
            "loss: 41.02837371826172, f1: 0.0690184271094191, acc: 0.2016129046678543\n"
          ],
          "name": "stdout"
        }
      ]
    },
    {
      "cell_type": "markdown",
      "metadata": {
        "id": "Xyu3cDR8abw2"
      },
      "source": [
        "# CASO 5: 10% DE LOS DATOS"
      ]
    },
    {
      "cell_type": "code",
      "metadata": {
        "colab": {
          "base_uri": "https://localhost:8080/"
        },
        "id": "CUY4N2D4aaQ5",
        "outputId": "3781f368-d2b9-4ac4-bd7c-d59f1c86a25d"
      },
      "source": [
        "from glob import glob\n",
        "\n",
        "train_files = glob('./mnist/train/*/*.png')\n",
        "valid_files = glob('./mnist/valid/*/*.png')\n",
        "test_files = glob('./mnist/test/*/*.png')\n",
        "\n",
        "type(train_files)\n",
        "# De igual forma que en el caso anterior, se tomará ahora el 10% de los datos que se encuentran en el conjunto incial. \n",
        "train_files5 = train_files[0:600]\n",
        "len(train_files5)"
      ],
      "execution_count": 52,
      "outputs": [
        {
          "output_type": "execute_result",
          "data": {
            "text/plain": [
              "600"
            ]
          },
          "metadata": {},
          "execution_count": 52
        }
      ]
    },
    {
      "cell_type": "code",
      "metadata": {
        "colab": {
          "base_uri": "https://localhost:8080/"
        },
        "id": "tb1CkvHyawIB",
        "outputId": "cd333f58-635c-49cd-9914-077f719a2603"
      },
      "source": [
        "np.random.shuffle(train_files5)\n",
        "np.random.shuffle(valid_files)\n",
        "np.random.shuffle(test_files)\n",
        "\n",
        "len(train_files5), len(valid_files), len(test_files)"
      ],
      "execution_count": 53,
      "outputs": [
        {
          "output_type": "execute_result",
          "data": {
            "text/plain": [
              "(600, 2000, 992)"
            ]
          },
          "metadata": {},
          "execution_count": 53
        }
      ]
    },
    {
      "cell_type": "code",
      "metadata": {
        "id": "dJ6XxE-fa-Vg"
      },
      "source": [
        "N_train = len(train_files5)\n",
        "X_train = []\n",
        "Y_train = []\n",
        "\n",
        "for i, train_file5 in enumerate(train_files5):\n",
        "  Y_train.append( int(train_file5.split('/')[3]) )\n",
        "  X_train.append(np.array(Image.open(train_file5)))"
      ],
      "execution_count": 54,
      "outputs": []
    },
    {
      "cell_type": "code",
      "metadata": {
        "id": "XAIpMEWebbZ2"
      },
      "source": [
        "N_valid = len(valid_files)\n",
        "X_valid = []\n",
        "Y_valid = []\n",
        "\n",
        "for i, valid_file in enumerate(valid_files):\n",
        "  Y_valid.append( int(valid_file.split('/')[3]) )\n",
        "  X_valid.append( np.array(Image.open(valid_file)))"
      ],
      "execution_count": 55,
      "outputs": []
    },
    {
      "cell_type": "code",
      "metadata": {
        "id": "IBG4LlWLbHk-"
      },
      "source": [
        "N_test = len(test_files)\n",
        "X_test = []\n",
        "Y_test = []\n",
        "\n",
        "for i, test_file in enumerate(test_files):\n",
        "  Y_test.append( int(test_file.split('/')[3]) )\n",
        "  X_test.append( np.array(Image.open(test_file)) )"
      ],
      "execution_count": 56,
      "outputs": []
    },
    {
      "cell_type": "code",
      "metadata": {
        "colab": {
          "base_uri": "https://localhost:8080/",
          "height": 350
        },
        "id": "eRnSNk2tbKH9",
        "outputId": "29887be4-9703-4154-e2df-1752423519b5"
      },
      "source": [
        "fig = plt.figure(figsize=(15,5))\n",
        "plt.subplot(1,3,1)\n",
        "plt.hist(np.sort(Y_train))\n",
        "plt.xlabel('class')\n",
        "plt.ylabel('counts')\n",
        "plt.title('Train set')\n",
        "\n",
        "plt.subplot(1,3,2)\n",
        "plt.hist(np.sort(Y_valid))\n",
        "plt.xlabel('class')\n",
        "plt.ylabel('counts')\n",
        "plt.title('Valid set')\n",
        "\n",
        "plt.subplot(1,3,3)\n",
        "plt.hist(np.sort(Y_test))\n",
        "plt.xlabel('class')\n",
        "plt.ylabel('counts')\n",
        "plt.title('Test set')\n",
        "\n",
        "plt.show()"
      ],
      "execution_count": 57,
      "outputs": [
        {
          "output_type": "display_data",
          "data": {
            "image/png": "[encoded data removed]",
            "text/plain": [
              "<Figure size 1080x360 with 3 Axes>"
            ]
          },
          "metadata": {
            "needs_background": "light"
          }
        }
      ]
    },
    {
      "cell_type": "code",
      "metadata": {
        "colab": {
          "base_uri": "https://localhost:8080/",
          "height": 482
        },
        "id": "C7YKwM05bOEs",
        "outputId": "0de24c16-42c8-4387-81d3-0fbec5825991"
      },
      "source": [
        "fig = plt.figure(figsize=(8,8))\n",
        "for i in range(4):\n",
        "  plt.subplot(2,2,i+1)\n",
        "  plt.imshow(X_test[i*15])\n",
        "  plt.title(Y_test[i*15])\n",
        "  plt.axis(False)\n",
        "plt.show()"
      ],
      "execution_count": 58,
      "outputs": [
        {
          "output_type": "display_data",
          "data": {
            "image/png": "[encoded data removed]",
            "text/plain": [
              "<Figure size 576x576 with 4 Axes>"
            ]
          },
          "metadata": {
            "needs_background": "light"
          }
        }
      ]
    },
    {
      "cell_type": "code",
      "metadata": {
        "colab": {
          "base_uri": "https://localhost:8080/"
        },
        "id": "S9GubUycbfKO",
        "outputId": "0704a623-b61c-4c2b-a00c-fabf091a8572"
      },
      "source": [
        "X_train = Variable(torch.from_numpy(np.array(X_train))).float()\n",
        "Y_train = Variable(torch.from_numpy(np.array(Y_train))).long()\n",
        "\n",
        "X_valid = Variable(torch.from_numpy(np.array(X_valid))).float()\n",
        "Y_valid = Variable(torch.from_numpy(np.array(Y_valid))).long()\n",
        "\n",
        "X_test = Variable(torch.from_numpy(np.array(X_test))).float()\n",
        "Y_test = Variable(torch.from_numpy(np.array(Y_test))).long()\n",
        "\n",
        "X_train.data.size()"
      ],
      "execution_count": 59,
      "outputs": [
        {
          "output_type": "execute_result",
          "data": {
            "text/plain": [
              "torch.Size([600, 28, 28])"
            ]
          },
          "metadata": {},
          "execution_count": 59
        }
      ]
    },
    {
      "cell_type": "code",
      "metadata": {
        "id": "--nujNQYbhrg"
      },
      "source": [
        "input_dim = 28*28\n",
        "out_dim = 10\n",
        "hidden = 50\n",
        "\n",
        "model = torch.nn.Sequential(\n",
        "  torch.nn.Linear(input_dim, hidden),\n",
        "  torch.nn.ReLU(),  \n",
        "  torch.nn.Linear(hidden, hidden),\n",
        "  torch.nn.ReLU(),       \n",
        "  torch.nn.Linear(hidden, out_dim)\n",
        ")\n",
        "\n",
        "optimizer = torch.optim.Adam(model.parameters())\n",
        "criterion = torch.nn.CrossEntropyLoss()"
      ],
      "execution_count": 60,
      "outputs": []
    },
    {
      "cell_type": "code",
      "metadata": {
        "id": "NTV1lfzFbkTA"
      },
      "source": [
        "n_epoch = 100\n",
        "\n",
        "loss_train = []\n",
        "f1_train = []\n",
        "acc_train = []\n",
        "\n",
        "loss_valid = []\n",
        "f1_valid = []\n",
        "acc_valid = []\n",
        "\n",
        "for epoch in range(n_epoch):\n",
        "  model.train()\n",
        "  \n",
        "  Xtr = X_train.view(X_train.size(0), -1)\n",
        "  Y_pred = model(Xtr)\n",
        "\n",
        "  loss = criterion(Y_pred,Y_train)\n",
        "  loss_train.append(loss.item())\n",
        "\n",
        "  Y_pred = torch.argmax(Y_pred, 1)\n",
        "  f1_train.append( f1_score(Y_train,Y_pred, average='macro') )\n",
        "  \n",
        "  acc = sum(Y_train == Y_pred)/len(Y_pred)\n",
        "  acc_train.append(acc)\n",
        "\n",
        "  optimizer.zero_grad()\n",
        "  loss.backward()\n",
        "  optimizer.step()\n",
        "\n",
        "  model.eval()\n",
        "  Xvl = X_valid.view(X_valid.size(0), -1)\n",
        "  Y_pred = model(Xvl)  \n",
        "  loss = criterion(Y_pred,Y_valid)\n",
        "  loss_valid.append(loss.item())\n",
        "\n",
        "  Y_pred = torch.argmax(Y_pred, 1)\n",
        "  f1_valid.append( f1_score(Y_valid, Y_pred, average='macro') )\n",
        "\n",
        "  acc = sum(Y_valid == Y_pred)/len(Y_pred)\n",
        "  acc_valid.append(acc)"
      ],
      "execution_count": 61,
      "outputs": []
    },
    {
      "cell_type": "code",
      "metadata": {
        "colab": {
          "base_uri": "https://localhost:8080/",
          "height": 335
        },
        "id": "zgH1Ajy3bn1J",
        "outputId": "c49cedf8-3ca9-4a48-e2bd-41f9e24169ed"
      },
      "source": [
        "fig = plt.figure(figsize=(15,5))\n",
        "plt.subplot(1,3,1)\n",
        "plt.plot(range(n_epoch), loss_train, label='train')\n",
        "plt.plot(range(n_epoch), loss_valid, label='valid')\n",
        "plt.xlabel('n_epoch')\n",
        "plt.ylabel('loss')\n",
        "plt.legend()\n",
        "plt.grid()\n",
        "plt.subplot(1,3,2)\n",
        "plt.plot(range(n_epoch), f1_train, label='train')\n",
        "plt.plot(range(n_epoch), f1_valid, label='valid')\n",
        "plt.xlabel('n_epoch')\n",
        "plt.ylabel('f1_score')\n",
        "plt.legend()\n",
        "plt.grid()\n",
        "plt.subplot(1,3,3)\n",
        "plt.plot(range(n_epoch), acc_train, label='train')\n",
        "plt.plot(range(n_epoch), acc_valid, label='valid')\n",
        "plt.xlabel('n_epoch')\n",
        "plt.ylabel('accuracy')\n",
        "plt.legend()\n",
        "plt.grid()\n",
        "\n",
        "plt.savefig('./curves_ok.png', bbox_inches='tight')\n",
        "plt.show()"
      ],
      "execution_count": 62,
      "outputs": [
        {
          "output_type": "display_data",
          "data": {
            "image/png": "[encoded data removed]",
            "text/plain": [
              "<Figure size 1080x360 with 3 Axes>"
            ]
          },
          "metadata": {
            "needs_background": "light"
          }
        }
      ]
    },
    {
      "cell_type": "code",
      "metadata": {
        "colab": {
          "base_uri": "https://localhost:8080/"
        },
        "id": "18YH7ThzbqQ7",
        "outputId": "0eeff303-28c2-4237-8145-5b4a44653372"
      },
      "source": [
        "model.eval()\n",
        "\n",
        "Xts = X_test.view(X_test.size(0), -1)\n",
        "Y_pred = model(Xts)  \n",
        "loss = criterion(Y_pred,Y_test)\n",
        "\n",
        "Y_pred = torch.argmax(Y_pred, 1)\n",
        "f1 = f1_score(Y_test, Y_pred, average='macro')\n",
        "\n",
        "acc = sum(Y_test == Y_pred)/len(Y_pred)\n",
        "\n",
        "print('loss: {}, f1: {}, acc: {}'.format(loss.item(), f1, acc))"
      ],
      "execution_count": 63,
      "outputs": [
        {
          "output_type": "stream",
          "text": [
            "loss: 99.9427719116211, f1: 0.018315018315018312, acc: 0.10080645233392715\n"
          ],
          "name": "stdout"
        }
      ]
    },
    {
      "cell_type": "markdown",
      "metadata": {
        "id": "6DtVg7gicxVj"
      },
      "source": [
        "## **ANÁLISIS**"
      ]
    },
    {
      "cell_type": "markdown",
      "metadata": {
        "id": "rRS9gPzFc1WD"
      },
      "source": [
        "De los resultados obtenidos para el accuracy, lo cual indica qué tan adecuado fue el modelo, se puede decir que a medida que se disminuye la cantidad de datos en el entrenamiento, este disminuye. Esto correspondería con el comportamiento esperado ya que al tener menor cantidad de datos para entrenamiento, el algoritmo no está listo para poder hacer una clasificación correcta de las imágenes del conjunto de datos. La importancia del conjunto de entrenamiento radica en que estos datos son necesarios para preparar al algoritmo en la tarea que se le está ordenando ya que, de no ser suficientes datos, como se mostró anteriormente, la respuesta no sería la adecuada. "
      ]
    },
    {
      "cell_type": "markdown",
      "metadata": {
        "id": "SqgTfCGEd0eZ"
      },
      "source": [
        "Por otro lado, de las curvas obtenidas, se puede decir que a medida que se disminuía el número de datos en el conjunto de entrenamiento, aumenta la brecha existente entre los datos de entrenamiento y los de validación, lo cual, nuevamente, es un indicativo de que el algoritmo, al suprimir datos de entrenamiento, opera de forma cada vez más ineficiente."
      ]
    },
    {
      "cell_type": "markdown",
      "metadata": {
        "id": "QkdTkut_ejZ_"
      },
      "source": [
        "# **PUNTO 2. **"
      ]
    },
    {
      "cell_type": "markdown",
      "metadata": {
        "id": "SnylXdKOektc"
      },
      "source": [
        "Para un modelo entrenado con el 100% de los datos de entrenamiento y 100% validación pruebe diferentes tamaños del conjunto de testeo para evaluar (10%, 20%, 50%, 80% y 100%) e imprima los 3 scores en cada caso [30pts]. i) Indique cuál es la importancia del tamaño del conjunto de testeo ii) Compare los score obtenidos en cada caso y iii) haga un breve análisis de los resultado obtenidos [15pts]."
      ]
    },
    {
      "cell_type": "markdown",
      "metadata": {
        "id": "2iEc8tvUex_Z"
      },
      "source": [
        "# CASO BASE: 100% DE LOS DATOS"
      ]
    },
    {
      "cell_type": "markdown",
      "metadata": {
        "id": "hsK49kF3euHq"
      },
      "source": [
        "El caso base, para este punto, corresponde al mismo caso base del punto anterior. "
      ]
    },
    {
      "cell_type": "markdown",
      "metadata": {
        "id": "zKHvYcVzgMZe"
      },
      "source": [
        "# CASO 2: 80% DE LOS DATOS"
      ]
    },
    {
      "cell_type": "code",
      "metadata": {
        "colab": {
          "base_uri": "https://localhost:8080/"
        },
        "id": "WcjH3kYseQTI",
        "outputId": "9686596c-d442-442c-8087-f73ba48ee287"
      },
      "source": [
        "from glob import glob\n",
        "\n",
        "train_files = glob('./mnist/train/*/*.png')\n",
        "valid_files = glob('./mnist/valid/*/*.png')\n",
        "test_files = glob('./mnist/test/*/*.png')\n",
        "\n",
        "test_files2 = test_files[0:794]\n",
        "len(test_files2)"
      ],
      "execution_count": 64,
      "outputs": [
        {
          "output_type": "execute_result",
          "data": {
            "text/plain": [
              "794"
            ]
          },
          "metadata": {},
          "execution_count": 64
        }
      ]
    },
    {
      "cell_type": "code",
      "metadata": {
        "colab": {
          "base_uri": "https://localhost:8080/"
        },
        "id": "Ftigs2aKe-TR",
        "outputId": "ac89f384-ae72-458a-d118-d4b3694ac6b4"
      },
      "source": [
        "np.random.shuffle(train_files)\n",
        "np.random.shuffle(valid_files)\n",
        "np.random.shuffle(test_files2)\n",
        "\n",
        "len(train_files), len(valid_files), len(test_files2)"
      ],
      "execution_count": 65,
      "outputs": [
        {
          "output_type": "execute_result",
          "data": {
            "text/plain": [
              "(6000, 2000, 794)"
            ]
          },
          "metadata": {},
          "execution_count": 65
        }
      ]
    },
    {
      "cell_type": "code",
      "metadata": {
        "id": "YahclGtGfdDy"
      },
      "source": [
        "N_train = len(train_files)\n",
        "X_train = []\n",
        "Y_train = []\n",
        "\n",
        "for i, train_file in enumerate(train_files):\n",
        "  Y_train.append( int(train_file.split('/')[3]) )\n",
        "  X_train.append(np.array(Image.open(train_file)))\n",
        "\n",
        "N_valid = len(valid_files)\n",
        "X_valid = []\n",
        "Y_valid = []\n",
        "\n",
        "for i, valid_file in enumerate(valid_files):\n",
        "  Y_valid.append( int(valid_file.split('/')[3]) )\n",
        "  X_valid.append( np.array(Image.open(valid_file)))\n",
        "\n",
        "N_test = len(test_files2)\n",
        "X_test = []\n",
        "Y_test = []\n",
        "\n",
        "for i, test_file2 in enumerate(test_files2):\n",
        "  Y_test.append( int(test_file2.split('/')[3]) )\n",
        "  X_test.append( np.array(Image.open(test_file2)) )"
      ],
      "execution_count": 66,
      "outputs": []
    },
    {
      "cell_type": "code",
      "metadata": {
        "id": "QCv_HAaHfvGO"
      },
      "source": [
        "X_train = Variable(torch.from_numpy(np.array(X_train))).float()\n",
        "Y_train = Variable(torch.from_numpy(np.array(Y_train))).long()\n",
        "\n",
        "X_valid = Variable(torch.from_numpy(np.array(X_valid))).float()\n",
        "Y_valid = Variable(torch.from_numpy(np.array(Y_valid))).long()\n",
        "\n",
        "X_test = Variable(torch.from_numpy(np.array(X_test))).float()\n",
        "Y_test = Variable(torch.from_numpy(np.array(Y_test))).long()"
      ],
      "execution_count": 67,
      "outputs": []
    },
    {
      "cell_type": "code",
      "metadata": {
        "id": "oIKoG5lZf22T"
      },
      "source": [
        "input_dim = 28*28\n",
        "out_dim = 10\n",
        "hidden = 50\n",
        "\n",
        "model = torch.nn.Sequential(\n",
        "  torch.nn.Linear(input_dim, hidden),\n",
        "  torch.nn.ReLU(),  \n",
        "  torch.nn.Linear(hidden, hidden),\n",
        "  torch.nn.ReLU(),       \n",
        "  torch.nn.Linear(hidden, out_dim)\n",
        ")\n",
        "\n",
        "optimizer = torch.optim.Adam(model.parameters())\n",
        "criterion = torch.nn.CrossEntropyLoss()"
      ],
      "execution_count": 68,
      "outputs": []
    },
    {
      "cell_type": "code",
      "metadata": {
        "id": "U6xGUiATf7Lo"
      },
      "source": [
        "n_epoch = 100\n",
        "\n",
        "loss_train = []\n",
        "f1_train = []\n",
        "acc_train = []\n",
        "\n",
        "loss_valid = []\n",
        "f1_valid = []\n",
        "acc_valid = []\n",
        "\n",
        "for epoch in range(n_epoch):\n",
        "  model.train()\n",
        "  \n",
        "  Xtr = X_train.view(X_train.size(0), -1)\n",
        "  Y_pred = model(Xtr)\n",
        "\n",
        "  loss = criterion(Y_pred,Y_train)\n",
        "  loss_train.append(loss.item())\n",
        "\n",
        "  Y_pred = torch.argmax(Y_pred, 1)\n",
        "  f1_train.append( f1_score(Y_train,Y_pred, average='macro') )\n",
        "  \n",
        "  acc = sum(Y_train == Y_pred)/len(Y_pred)\n",
        "  acc_train.append(acc)\n",
        "\n",
        "  optimizer.zero_grad()\n",
        "  loss.backward()\n",
        "  optimizer.step()\n",
        "\n",
        "  model.eval()\n",
        "  Xvl = X_valid.view(X_valid.size(0), -1)\n",
        "  Y_pred = model(Xvl)  \n",
        "  loss = criterion(Y_pred,Y_valid)\n",
        "  loss_valid.append(loss.item())\n",
        "\n",
        "  Y_pred = torch.argmax(Y_pred, 1)\n",
        "  f1_valid.append( f1_score(Y_valid, Y_pred, average='macro') )\n",
        "\n",
        "  acc = sum(Y_valid == Y_pred)/len(Y_pred)\n",
        "  acc_valid.append(acc)"
      ],
      "execution_count": 69,
      "outputs": []
    },
    {
      "cell_type": "code",
      "metadata": {
        "colab": {
          "base_uri": "https://localhost:8080/",
          "height": 335
        },
        "id": "TcvUngs5gCGr",
        "outputId": "639b4bc7-cacc-4429-f3d3-8fbf631cd5d3"
      },
      "source": [
        "fig = plt.figure(figsize=(15,5))\n",
        "plt.subplot(1,3,1)\n",
        "plt.plot(range(n_epoch), loss_train, label='train')\n",
        "plt.plot(range(n_epoch), loss_valid, label='valid')\n",
        "plt.xlabel('n_epoch')\n",
        "plt.ylabel('loss')\n",
        "plt.legend()\n",
        "plt.grid()\n",
        "plt.subplot(1,3,2)\n",
        "plt.plot(range(n_epoch), f1_train, label='train')\n",
        "plt.plot(range(n_epoch), f1_valid, label='valid')\n",
        "plt.xlabel('n_epoch')\n",
        "plt.ylabel('f1_score')\n",
        "plt.legend()\n",
        "plt.grid()\n",
        "plt.subplot(1,3,3)\n",
        "plt.plot(range(n_epoch), acc_train, label='train')\n",
        "plt.plot(range(n_epoch), acc_valid, label='valid')\n",
        "plt.xlabel('n_epoch')\n",
        "plt.ylabel('accuracy')\n",
        "plt.legend()\n",
        "plt.grid()\n",
        "\n",
        "plt.savefig('./curves_ok.png', bbox_inches='tight')\n",
        "plt.show()"
      ],
      "execution_count": 70,
      "outputs": [
        {
          "output_type": "display_data",
          "data": {
            "image/png": "[encoded data removed]",
            "text/plain": [
              "<Figure size 1080x360 with 3 Axes>"
            ]
          },
          "metadata": {
            "needs_background": "light"
          }
        }
      ]
    },
    {
      "cell_type": "code",
      "metadata": {
        "colab": {
          "base_uri": "https://localhost:8080/"
        },
        "id": "JGKpsvVRgFwL",
        "outputId": "fb36d167-0a42-4cbd-aa02-0fa4c91a38b8"
      },
      "source": [
        "model.eval()\n",
        "\n",
        "Xts = X_test.view(X_test.size(0), -1)\n",
        "Y_pred = model(Xts)  \n",
        "loss = criterion(Y_pred,Y_test)\n",
        "\n",
        "Y_pred = torch.argmax(Y_pred, 1)\n",
        "f1 = f1_score(Y_test, Y_pred, average='macro')\n",
        "\n",
        "acc = sum(Y_test == Y_pred)/len(Y_pred)\n",
        "\n",
        "print('loss: {}, f1: {}, acc: {}'.format(loss.item(), f1, acc))"
      ],
      "execution_count": 71,
      "outputs": [
        {
          "output_type": "stream",
          "text": [
            "loss: 0.3793642520904541, f1: 0.7500945985022252, acc: 0.9030226469039917\n"
          ],
          "name": "stdout"
        }
      ]
    },
    {
      "cell_type": "markdown",
      "metadata": {
        "id": "v2NNxZFFgQki"
      },
      "source": [
        "# CASO 3: 50% DE LOS DATOS"
      ]
    },
    {
      "cell_type": "code",
      "metadata": {
        "id": "gX_wF_1WgIh-"
      },
      "source": [
        "from glob import glob\n",
        "\n",
        "train_files = glob('./mnist/train/*/*.png')\n",
        "valid_files = glob('./mnist/valid/*/*.png')\n",
        "test_files = glob('./mnist/test/*/*.png')\n",
        "\n",
        "test_files3 = test_files[0:496]\n",
        "\n",
        "np.random.shuffle(train_files)\n",
        "np.random.shuffle(valid_files)\n",
        "np.random.shuffle(test_files3)"
      ],
      "execution_count": 72,
      "outputs": []
    },
    {
      "cell_type": "code",
      "metadata": {
        "id": "DpievSZrgch-"
      },
      "source": [
        "N_train = len(train_files)\n",
        "X_train = []\n",
        "Y_train = []\n",
        "\n",
        "for i, train_file in enumerate(train_files):\n",
        "  Y_train.append( int(train_file.split('/')[3]) )\n",
        "  X_train.append(np.array(Image.open(train_file)))\n",
        "\n",
        "N_valid = len(valid_files)\n",
        "X_valid = []\n",
        "Y_valid = []\n",
        "\n",
        "for i, valid_file in enumerate(valid_files):\n",
        "  Y_valid.append( int(valid_file.split('/')[3]) )\n",
        "  X_valid.append( np.array(Image.open(valid_file)))\n",
        "\n",
        "N_test = len(test_files3)\n",
        "X_test = []\n",
        "Y_test = []\n",
        "\n",
        "for i, test_file3 in enumerate(test_files3):\n",
        "  Y_test.append( int(test_file3.split('/')[3]) )\n",
        "  X_test.append( np.array(Image.open(test_file3)) )"
      ],
      "execution_count": 73,
      "outputs": []
    },
    {
      "cell_type": "code",
      "metadata": {
        "id": "fa-_vxWtgkI2"
      },
      "source": [
        "X_train = Variable(torch.from_numpy(np.array(X_train))).float()\n",
        "Y_train = Variable(torch.from_numpy(np.array(Y_train))).long()\n",
        "\n",
        "X_valid = Variable(torch.from_numpy(np.array(X_valid))).float()\n",
        "Y_valid = Variable(torch.from_numpy(np.array(Y_valid))).long()\n",
        "\n",
        "X_test = Variable(torch.from_numpy(np.array(X_test))).float()\n",
        "Y_test = Variable(torch.from_numpy(np.array(Y_test))).long()"
      ],
      "execution_count": 74,
      "outputs": []
    },
    {
      "cell_type": "code",
      "metadata": {
        "id": "Fh8olQtvgndt"
      },
      "source": [
        "input_dim = 28*28\n",
        "out_dim = 10\n",
        "hidden = 50\n",
        "\n",
        "model = torch.nn.Sequential(\n",
        "  torch.nn.Linear(input_dim, hidden),\n",
        "  torch.nn.ReLU(),  \n",
        "  torch.nn.Linear(hidden, hidden),\n",
        "  torch.nn.ReLU(),       \n",
        "  torch.nn.Linear(hidden, out_dim)\n",
        ")\n",
        "\n",
        "optimizer = torch.optim.Adam(model.parameters())\n",
        "criterion = torch.nn.CrossEntropyLoss()"
      ],
      "execution_count": 75,
      "outputs": []
    },
    {
      "cell_type": "code",
      "metadata": {
        "id": "udoXEEN8gppC"
      },
      "source": [
        "n_epoch = 100\n",
        "\n",
        "loss_train = []\n",
        "f1_train = []\n",
        "acc_train = []\n",
        "\n",
        "loss_valid = []\n",
        "f1_valid = []\n",
        "acc_valid = []\n",
        "\n",
        "for epoch in range(n_epoch):\n",
        "  model.train()\n",
        "  \n",
        "  Xtr = X_train.view(X_train.size(0), -1)\n",
        "  Y_pred = model(Xtr)\n",
        "\n",
        "  loss = criterion(Y_pred,Y_train)\n",
        "  loss_train.append(loss.item())\n",
        "\n",
        "  Y_pred = torch.argmax(Y_pred, 1)\n",
        "  f1_train.append( f1_score(Y_train,Y_pred, average='macro') )\n",
        "  \n",
        "  acc = sum(Y_train == Y_pred)/len(Y_pred)\n",
        "  acc_train.append(acc)\n",
        "\n",
        "  optimizer.zero_grad()\n",
        "  loss.backward()\n",
        "  optimizer.step()\n",
        "\n",
        "  model.eval()\n",
        "  Xvl = X_valid.view(X_valid.size(0), -1)\n",
        "  Y_pred = model(Xvl)  \n",
        "  loss = criterion(Y_pred,Y_valid)\n",
        "  loss_valid.append(loss.item())\n",
        "\n",
        "  Y_pred = torch.argmax(Y_pred, 1)\n",
        "  f1_valid.append( f1_score(Y_valid, Y_pred, average='macro') )\n",
        "\n",
        "  acc = sum(Y_valid == Y_pred)/len(Y_pred)\n",
        "  acc_valid.append(acc)"
      ],
      "execution_count": 76,
      "outputs": []
    },
    {
      "cell_type": "code",
      "metadata": {
        "colab": {
          "base_uri": "https://localhost:8080/",
          "height": 335
        },
        "id": "OeeT-2pOgs6L",
        "outputId": "43eb13a7-51f5-4361-b871-a126397ed620"
      },
      "source": [
        "fig = plt.figure(figsize=(15,5))\n",
        "plt.subplot(1,3,1)\n",
        "plt.plot(range(n_epoch), loss_train, label='train')\n",
        "plt.plot(range(n_epoch), loss_valid, label='valid')\n",
        "plt.xlabel('n_epoch')\n",
        "plt.ylabel('loss')\n",
        "plt.legend()\n",
        "plt.grid()\n",
        "plt.subplot(1,3,2)\n",
        "plt.plot(range(n_epoch), f1_train, label='train')\n",
        "plt.plot(range(n_epoch), f1_valid, label='valid')\n",
        "plt.xlabel('n_epoch')\n",
        "plt.ylabel('f1_score')\n",
        "plt.legend()\n",
        "plt.grid()\n",
        "plt.subplot(1,3,3)\n",
        "plt.plot(range(n_epoch), acc_train, label='train')\n",
        "plt.plot(range(n_epoch), acc_valid, label='valid')\n",
        "plt.xlabel('n_epoch')\n",
        "plt.ylabel('accuracy')\n",
        "plt.legend()\n",
        "plt.grid()\n",
        "\n",
        "plt.savefig('./curves_ok.png', bbox_inches='tight')\n",
        "plt.show()"
      ],
      "execution_count": 77,
      "outputs": [
        {
          "output_type": "display_data",
          "data": {
            "image/png": "[encoded data removed]",
            "text/plain": [
              "<Figure size 1080x360 with 3 Axes>"
            ]
          },
          "metadata": {
            "needs_background": "light"
          }
        }
      ]
    },
    {
      "cell_type": "code",
      "metadata": {
        "colab": {
          "base_uri": "https://localhost:8080/"
        },
        "id": "gvWiN-6UgwPR",
        "outputId": "394674f8-333b-496e-d348-d7f86cb5e7cf"
      },
      "source": [
        "model.eval()\n",
        "\n",
        "Xts = X_test.view(X_test.size(0), -1)\n",
        "Y_pred = model(Xts)  \n",
        "loss = criterion(Y_pred,Y_test)\n",
        "\n",
        "Y_pred = torch.argmax(Y_pred, 1)\n",
        "f1 = f1_score(Y_test, Y_pred, average='macro')\n",
        "\n",
        "acc = sum(Y_test == Y_pred)/len(Y_pred)\n",
        "\n",
        "print('loss: {}, f1: {}, acc: {}'.format(loss.item(), f1, acc))"
      ],
      "execution_count": 78,
      "outputs": [
        {
          "output_type": "stream",
          "text": [
            "loss: 0.256705105304718, f1: 0.5226531277430394, acc: 0.9193548560142517\n"
          ],
          "name": "stdout"
        }
      ]
    },
    {
      "cell_type": "markdown",
      "metadata": {
        "id": "vFipKI1Cg-bN"
      },
      "source": [
        "# CASO 4: 20% DE LOS DATOS"
      ]
    },
    {
      "cell_type": "code",
      "metadata": {
        "id": "xwkTebmNgyqW"
      },
      "source": [
        "from glob import glob\n",
        "\n",
        "train_files = glob('./mnist/train/*/*.png')\n",
        "valid_files = glob('./mnist/valid/*/*.png')\n",
        "test_files = glob('./mnist/test/*/*.png')\n",
        "\n",
        "test_files4 = test_files[0:198]\n",
        "\n",
        "np.random.shuffle(train_files)\n",
        "np.random.shuffle(valid_files)\n",
        "np.random.shuffle(test_files4)"
      ],
      "execution_count": 79,
      "outputs": []
    },
    {
      "cell_type": "code",
      "metadata": {
        "id": "ATqv9ef0hFQ5"
      },
      "source": [
        "N_train = len(train_files)\n",
        "X_train = []\n",
        "Y_train = []\n",
        "\n",
        "for i, train_file in enumerate(train_files):\n",
        "  Y_train.append( int(train_file.split('/')[3]) )\n",
        "  X_train.append(np.array(Image.open(train_file)))\n",
        "\n",
        "N_valid = len(valid_files)\n",
        "X_valid = []\n",
        "Y_valid = []\n",
        "\n",
        "for i, valid_file in enumerate(valid_files):\n",
        "  Y_valid.append( int(valid_file.split('/')[3]) )\n",
        "  X_valid.append( np.array(Image.open(valid_file)))\n",
        "\n",
        "N_test = len(test_files4)\n",
        "X_test = []\n",
        "Y_test = []\n",
        "\n",
        "for i, test_file4 in enumerate(test_files4):\n",
        "  Y_test.append( int(test_file4.split('/')[3]) )\n",
        "  X_test.append( np.array(Image.open(test_file4)) )"
      ],
      "execution_count": 80,
      "outputs": []
    },
    {
      "cell_type": "code",
      "metadata": {
        "id": "k_HZKy2yhMyi"
      },
      "source": [
        "X_train = Variable(torch.from_numpy(np.array(X_train))).float()\n",
        "Y_train = Variable(torch.from_numpy(np.array(Y_train))).long()\n",
        "\n",
        "X_valid = Variable(torch.from_numpy(np.array(X_valid))).float()\n",
        "Y_valid = Variable(torch.from_numpy(np.array(Y_valid))).long()\n",
        "\n",
        "X_test = Variable(torch.from_numpy(np.array(X_test))).float()\n",
        "Y_test = Variable(torch.from_numpy(np.array(Y_test))).long()"
      ],
      "execution_count": 81,
      "outputs": []
    },
    {
      "cell_type": "code",
      "metadata": {
        "id": "Jq3pZPWIhPkm"
      },
      "source": [
        "input_dim = 28*28\n",
        "out_dim = 10\n",
        "hidden = 50\n",
        "\n",
        "model = torch.nn.Sequential(\n",
        "  torch.nn.Linear(input_dim, hidden),\n",
        "  torch.nn.ReLU(),  \n",
        "  torch.nn.Linear(hidden, hidden),\n",
        "  torch.nn.ReLU(),       \n",
        "  torch.nn.Linear(hidden, out_dim)\n",
        ")\n",
        "\n",
        "optimizer = torch.optim.Adam(model.parameters())\n",
        "criterion = torch.nn.CrossEntropyLoss()"
      ],
      "execution_count": 82,
      "outputs": []
    },
    {
      "cell_type": "code",
      "metadata": {
        "id": "QchJUcYphS1u"
      },
      "source": [
        "n_epoch = 100\n",
        "\n",
        "loss_train = []\n",
        "f1_train = []\n",
        "acc_train = []\n",
        "\n",
        "loss_valid = []\n",
        "f1_valid = []\n",
        "acc_valid = []\n",
        "\n",
        "for epoch in range(n_epoch):\n",
        "  model.train()\n",
        "  \n",
        "  Xtr = X_train.view(X_train.size(0), -1)\n",
        "  Y_pred = model(Xtr)\n",
        "\n",
        "  loss = criterion(Y_pred,Y_train)\n",
        "  loss_train.append(loss.item())\n",
        "\n",
        "  Y_pred = torch.argmax(Y_pred, 1)\n",
        "  f1_train.append( f1_score(Y_train,Y_pred, average='macro') )\n",
        "  \n",
        "  acc = sum(Y_train == Y_pred)/len(Y_pred)\n",
        "  acc_train.append(acc)\n",
        "\n",
        "  optimizer.zero_grad()\n",
        "  loss.backward()\n",
        "  optimizer.step()\n",
        "\n",
        "  model.eval()\n",
        "  Xvl = X_valid.view(X_valid.size(0), -1)\n",
        "  Y_pred = model(Xvl)  \n",
        "  loss = criterion(Y_pred,Y_valid)\n",
        "  loss_valid.append(loss.item())\n",
        "\n",
        "  Y_pred = torch.argmax(Y_pred, 1)\n",
        "  f1_valid.append( f1_score(Y_valid, Y_pred, average='macro') )\n",
        "\n",
        "  acc = sum(Y_valid == Y_pred)/len(Y_pred)\n",
        "  acc_valid.append(acc)"
      ],
      "execution_count": 83,
      "outputs": []
    },
    {
      "cell_type": "code",
      "metadata": {
        "colab": {
          "base_uri": "https://localhost:8080/",
          "height": 335
        },
        "id": "K_V4vdFAhXV2",
        "outputId": "631c4d6d-5142-4f27-cb58-6689e1536ef4"
      },
      "source": [
        "fig = plt.figure(figsize=(15,5))\n",
        "plt.subplot(1,3,1)\n",
        "plt.plot(range(n_epoch), loss_train, label='train')\n",
        "plt.plot(range(n_epoch), loss_valid, label='valid')\n",
        "plt.xlabel('n_epoch')\n",
        "plt.ylabel('loss')\n",
        "plt.legend()\n",
        "plt.grid()\n",
        "plt.subplot(1,3,2)\n",
        "plt.plot(range(n_epoch), f1_train, label='train')\n",
        "plt.plot(range(n_epoch), f1_valid, label='valid')\n",
        "plt.xlabel('n_epoch')\n",
        "plt.ylabel('f1_score')\n",
        "plt.legend()\n",
        "plt.grid()\n",
        "plt.subplot(1,3,3)\n",
        "plt.plot(range(n_epoch), acc_train, label='train')\n",
        "plt.plot(range(n_epoch), acc_valid, label='valid')\n",
        "plt.xlabel('n_epoch')\n",
        "plt.ylabel('accuracy')\n",
        "plt.legend()\n",
        "plt.grid()\n",
        "\n",
        "plt.savefig('./curves_ok.png', bbox_inches='tight')\n",
        "plt.show()"
      ],
      "execution_count": 84,
      "outputs": [
        {
          "output_type": "display_data",
          "data": {
            "image/png": "[encoded data removed]",
            "text/plain": [
              "<Figure size 1080x360 with 3 Axes>"
            ]
          },
          "metadata": {
            "needs_background": "light"
          }
        }
      ]
    },
    {
      "cell_type": "code",
      "metadata": {
        "colab": {
          "base_uri": "https://localhost:8080/"
        },
        "id": "mu0CiLYohaN4",
        "outputId": "fa04da2a-6d78-43a3-e567-4d855e56f611"
      },
      "source": [
        "model.eval()\n",
        "\n",
        "Xts = X_test.view(X_test.size(0), -1)\n",
        "Y_pred = model(Xts)  \n",
        "loss = criterion(Y_pred,Y_test)\n",
        "\n",
        "Y_pred = torch.argmax(Y_pred, 1)\n",
        "f1 = f1_score(Y_test, Y_pred, average='macro')\n",
        "\n",
        "acc = sum(Y_test == Y_pred)/len(Y_pred)\n",
        "\n",
        "print('loss: {}, f1: {}, acc: {}'.format(loss.item(), f1, acc))"
      ],
      "execution_count": 85,
      "outputs": [
        {
          "output_type": "stream",
          "text": [
            "loss: 0.38846707344055176, f1: 0.2667535223673914, acc: 0.8838383555412292\n"
          ],
          "name": "stdout"
        }
      ]
    },
    {
      "cell_type": "markdown",
      "metadata": {
        "id": "HAD5X5qLhfOq"
      },
      "source": [
        "# CASO 5: 10% DE LOS DATOS"
      ]
    },
    {
      "cell_type": "code",
      "metadata": {
        "id": "sYmRT91Chca-"
      },
      "source": [
        "from glob import glob\n",
        "\n",
        "train_files = glob('./mnist/train/*/*.png')\n",
        "valid_files = glob('./mnist/valid/*/*.png')\n",
        "test_files = glob('./mnist/test/*/*.png')\n",
        "\n",
        "test_files5 = test_files[0:99]\n",
        "\n",
        "np.random.shuffle(train_files)\n",
        "np.random.shuffle(valid_files)\n",
        "np.random.shuffle(test_files5)"
      ],
      "execution_count": 86,
      "outputs": []
    },
    {
      "cell_type": "code",
      "metadata": {
        "id": "xX4cRSPZhl9i"
      },
      "source": [
        "N_train = len(train_files)\n",
        "X_train = []\n",
        "Y_train = []\n",
        "\n",
        "for i, train_file in enumerate(train_files):\n",
        "  Y_train.append( int(train_file.split('/')[3]) )\n",
        "  X_train.append(np.array(Image.open(train_file)))\n",
        "\n",
        "N_valid = len(valid_files)\n",
        "X_valid = []\n",
        "Y_valid = []\n",
        "\n",
        "for i, valid_file in enumerate(valid_files):\n",
        "  Y_valid.append( int(valid_file.split('/')[3]) )\n",
        "  X_valid.append( np.array(Image.open(valid_file)))\n",
        "\n",
        "N_test = len(test_files5)\n",
        "X_test = []\n",
        "Y_test = []\n",
        "\n",
        "for i, test_file5 in enumerate(test_files5):\n",
        "  Y_test.append( int(test_file5.split('/')[3]) )\n",
        "  X_test.append( np.array(Image.open(test_file5)) )"
      ],
      "execution_count": 87,
      "outputs": []
    },
    {
      "cell_type": "code",
      "metadata": {
        "id": "xnn2jDiVh6Lu"
      },
      "source": [
        "X_train = Variable(torch.from_numpy(np.array(X_train))).float()\n",
        "Y_train = Variable(torch.from_numpy(np.array(Y_train))).long()\n",
        "\n",
        "X_valid = Variable(torch.from_numpy(np.array(X_valid))).float()\n",
        "Y_valid = Variable(torch.from_numpy(np.array(Y_valid))).long()\n",
        "\n",
        "X_test = Variable(torch.from_numpy(np.array(X_test))).float()\n",
        "Y_test = Variable(torch.from_numpy(np.array(Y_test))).long()"
      ],
      "execution_count": 88,
      "outputs": []
    },
    {
      "cell_type": "code",
      "metadata": {
        "id": "mGU1MrZWh8Px"
      },
      "source": [
        "input_dim = 28*28\n",
        "out_dim = 10\n",
        "hidden = 50\n",
        "\n",
        "model = torch.nn.Sequential(\n",
        "  torch.nn.Linear(input_dim, hidden),\n",
        "  torch.nn.ReLU(),  \n",
        "  torch.nn.Linear(hidden, hidden),\n",
        "  torch.nn.ReLU(),       \n",
        "  torch.nn.Linear(hidden, out_dim)\n",
        ")\n",
        "\n",
        "optimizer = torch.optim.Adam(model.parameters())\n",
        "criterion = torch.nn.CrossEntropyLoss()"
      ],
      "execution_count": 89,
      "outputs": []
    },
    {
      "cell_type": "code",
      "metadata": {
        "id": "m1FTo4wCh-en"
      },
      "source": [
        "n_epoch = 100\n",
        "\n",
        "loss_train = []\n",
        "f1_train = []\n",
        "acc_train = []\n",
        "\n",
        "loss_valid = []\n",
        "f1_valid = []\n",
        "acc_valid = []\n",
        "\n",
        "for epoch in range(n_epoch):\n",
        "  model.train()\n",
        "  \n",
        "  Xtr = X_train.view(X_train.size(0), -1)\n",
        "  Y_pred = model(Xtr)\n",
        "\n",
        "  loss = criterion(Y_pred,Y_train)\n",
        "  loss_train.append(loss.item())\n",
        "\n",
        "  Y_pred = torch.argmax(Y_pred, 1)\n",
        "  f1_train.append( f1_score(Y_train,Y_pred, average='macro') )\n",
        "  \n",
        "  acc = sum(Y_train == Y_pred)/len(Y_pred)\n",
        "  acc_train.append(acc)\n",
        "\n",
        "  optimizer.zero_grad()\n",
        "  loss.backward()\n",
        "  optimizer.step()\n",
        "\n",
        "  model.eval()\n",
        "  Xvl = X_valid.view(X_valid.size(0), -1)\n",
        "  Y_pred = model(Xvl)  \n",
        "  loss = criterion(Y_pred,Y_valid)\n",
        "  loss_valid.append(loss.item())\n",
        "\n",
        "  Y_pred = torch.argmax(Y_pred, 1)\n",
        "  f1_valid.append( f1_score(Y_valid, Y_pred, average='macro') )\n",
        "\n",
        "  acc = sum(Y_valid == Y_pred)/len(Y_pred)\n",
        "  acc_valid.append(acc)"
      ],
      "execution_count": 90,
      "outputs": []
    },
    {
      "cell_type": "code",
      "metadata": {
        "colab": {
          "base_uri": "https://localhost:8080/",
          "height": 335
        },
        "id": "1q9Y4ylMiBzr",
        "outputId": "23eee3f1-1ba8-4c08-c447-9ed0974071d9"
      },
      "source": [
        "fig = plt.figure(figsize=(15,5))\n",
        "plt.subplot(1,3,1)\n",
        "plt.plot(range(n_epoch), loss_train, label='train')\n",
        "plt.plot(range(n_epoch), loss_valid, label='valid')\n",
        "plt.xlabel('n_epoch')\n",
        "plt.ylabel('loss')\n",
        "plt.legend()\n",
        "plt.grid()\n",
        "plt.subplot(1,3,2)\n",
        "plt.plot(range(n_epoch), f1_train, label='train')\n",
        "plt.plot(range(n_epoch), f1_valid, label='valid')\n",
        "plt.xlabel('n_epoch')\n",
        "plt.ylabel('f1_score')\n",
        "plt.legend()\n",
        "plt.grid()\n",
        "plt.subplot(1,3,3)\n",
        "plt.plot(range(n_epoch), acc_train, label='train')\n",
        "plt.plot(range(n_epoch), acc_valid, label='valid')\n",
        "plt.xlabel('n_epoch')\n",
        "plt.ylabel('accuracy')\n",
        "plt.legend()\n",
        "plt.grid()\n",
        "\n",
        "plt.savefig('./curves_ok.png', bbox_inches='tight')\n",
        "plt.show()"
      ],
      "execution_count": 91,
      "outputs": [
        {
          "output_type": "display_data",
          "data": {
            "image/png": "[encoded data removed]",
            "text/plain": [
              "<Figure size 1080x360 with 3 Axes>"
            ]
          },
          "metadata": {
            "needs_background": "light"
          }
        }
      ]
    },
    {
      "cell_type": "code",
      "metadata": {
        "colab": {
          "base_uri": "https://localhost:8080/"
        },
        "id": "C99H5PNYiFmS",
        "outputId": "dda70d4e-052d-43b4-d9f0-ee17c10748fc"
      },
      "source": [
        "model.eval()\n",
        "\n",
        "Xts = X_test.view(X_test.size(0), -1)\n",
        "Y_pred = model(Xts)  \n",
        "loss = criterion(Y_pred,Y_test)\n",
        "\n",
        "Y_pred = torch.argmax(Y_pred, 1)\n",
        "f1 = f1_score(Y_test, Y_pred, average='macro')\n",
        "\n",
        "acc = sum(Y_test == Y_pred)/len(Y_pred)\n",
        "\n",
        "print('loss: {}, f1: {}, acc: {}'.format(loss.item(), f1, acc))"
      ],
      "execution_count": 92,
      "outputs": [
        {
          "output_type": "stream",
          "text": [
            "loss: 0.2947862446308136, f1: 0.15964912280701757, acc: 0.9191918969154358\n"
          ],
          "name": "stdout"
        }
      ]
    },
    {
      "cell_type": "markdown",
      "metadata": {
        "id": "nUsuVgB7iRHp"
      },
      "source": [
        "## **ANÁLISIS**"
      ]
    },
    {
      "cell_type": "markdown",
      "metadata": {
        "id": "BkCDzq9uiSHH"
      },
      "source": [
        "De los resultados obtenidos para este caso, se puede afirmar que así se disminuyan los datos en el conjunto de datos de testeo, el algoritmo presenta un comportamiento aceptable con un accuracy mínimo, para el 10% de datos, de 0.9 aproximadamente. Esto puede deberse principalmente a que como el conjunto de entrenamiento y validación es amplio y es del 100%, la identificación que hace el algoritmo en los datos de testeo es adecuada ya que se encuentra preparado para hacerla. Sin embargo, la importancia en el tamaño en el conjunto de testeo radica en que es la evaluación para poder verificar el desempeño adecuado del algoritmo. De las gráficas obtenidas se puede decir que la brecha entre los datos de validación y entrenamiento es mucho menor que en el análisis hecho en el primer punto. Esto es un indicativo de la preparación del algoritmo para hacer la verificación de su funcionamiento con los datos del conjunto de testeo."
      ]
    },
    {
      "cell_type": "code",
      "metadata": {
        "id": "cbGxqSVgiI2G"
      },
      "source": [
        ""
      ],
      "execution_count": 92,
      "outputs": []
    }
  ]
}